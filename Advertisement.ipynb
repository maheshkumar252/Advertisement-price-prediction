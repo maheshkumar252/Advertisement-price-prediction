{
 "cells": [
  {
   "cell_type": "code",
   "execution_count": 17,
   "id": "8746053a",
   "metadata": {
    "executionInfo": {
     "elapsed": 4,
     "status": "ok",
     "timestamp": 1745064791865,
     "user": {
      "displayName": "Arihant Jain",
      "userId": "00542987843204554606"
     },
     "user_tz": -330
    },
    "id": "8746053a"
   },
   "outputs": [],
   "source": [
    "import warnings\n",
    "warnings.filterwarnings('ignore')\n",
    "\n",
    "import lightgbm as lgb\n",
    "import matplotlib.pyplot as plt\n",
    "import numpy as np\n",
    "import pandas as pd\n",
    "import pickle\n",
    "import seaborn as sns\n",
    "import xgboost as xgb\n",
    "\n",
    "from pandas.plotting import scatter_matrix\n",
    "from sklearn.ensemble import GradientBoostingRegressor, RandomForestRegressor\n",
    "from sklearn.linear_model import ElasticNet, Lasso, LinearRegression, Ridge\n",
    "from sklearn.metrics import mean_squared_error, r2_score\n",
    "from sklearn.model_selection import cross_val_score, train_test_split\n",
    "from sklearn.neighbors import KNeighborsRegressor\n",
    "from sklearn.svm import SVR\n",
    "from sklearn.tree import DecisionTreeRegressor\n",
    "\n",
    "sns.set()\n",
    "%matplotlib inline"
   ]
  },
  {
   "cell_type": "code",
   "execution_count": 19,
   "id": "07b329c9-835b-411e-b486-847a14944f5e",
   "metadata": {},
   "outputs": [
    {
     "name": "stdout",
     "output_type": "stream",
     "text": [
      "Requirement already satisfied: xgboost in c:\\users\\dell\\anaconda3\\lib\\site-packages (3.0.0)\n",
      "Requirement already satisfied: numpy in c:\\users\\dell\\anaconda3\\lib\\site-packages (from xgboost) (1.26.4)\n",
      "Requirement already satisfied: scipy in c:\\users\\dell\\anaconda3\\lib\\site-packages (from xgboost) (1.13.1)\n"
     ]
    }
   ],
   "source": [
    "!pip install xgboost\n"
   ]
  },
  {
   "cell_type": "code",
   "execution_count": 20,
   "id": "0ea5c811-571d-4e89-994b-30810aed4bf0",
   "metadata": {},
   "outputs": [
    {
     "name": "stdout",
     "output_type": "stream",
     "text": [
      "Requirement already satisfied: lightgbm in c:\\users\\dell\\anaconda3\\lib\\site-packages (4.6.0)\n",
      "Requirement already satisfied: numpy>=1.17.0 in c:\\users\\dell\\anaconda3\\lib\\site-packages (from lightgbm) (1.26.4)\n",
      "Requirement already satisfied: scipy in c:\\users\\dell\\anaconda3\\lib\\site-packages (from lightgbm) (1.13.1)\n"
     ]
    }
   ],
   "source": [
    "!pip install lightgbm\n"
   ]
  },
  {
   "cell_type": "code",
   "execution_count": 21,
   "id": "69IQDiLqgMpt",
   "metadata": {
    "executionInfo": {
     "elapsed": 26,
     "status": "ok",
     "timestamp": 1745064795005,
     "user": {
      "displayName": "Arihant Jain",
      "userId": "00542987843204554606"
     },
     "user_tz": -330
    },
    "id": "69IQDiLqgMpt"
   },
   "outputs": [],
   "source": [
    "from sklearn.neighbors import KNeighborsRegressor"
   ]
  },
  {
   "cell_type": "code",
   "execution_count": 45,
   "id": "7bbe2822",
   "metadata": {
    "colab": {
     "base_uri": "https://localhost:8080/",
     "height": 206
    },
    "executionInfo": {
     "elapsed": 26,
     "status": "ok",
     "timestamp": 1745064795005,
     "user": {
      "displayName": "Arihant Jain",
      "userId": "00542987843204554606"
     },
     "user_tz": -330
    },
    "id": "7bbe2822",
    "outputId": "8f08897e-9159-40e7-cfc4-339d2875bff6"
   },
   "outputs": [
    {
     "data": {
      "text/html": [
       "<div>\n",
       "<style scoped>\n",
       "    .dataframe tbody tr th:only-of-type {\n",
       "        vertical-align: middle;\n",
       "    }\n",
       "\n",
       "    .dataframe tbody tr th {\n",
       "        vertical-align: top;\n",
       "    }\n",
       "\n",
       "    .dataframe thead th {\n",
       "        text-align: right;\n",
       "    }\n",
       "</style>\n",
       "<table border=\"1\" class=\"dataframe\">\n",
       "  <thead>\n",
       "    <tr style=\"text-align: right;\">\n",
       "      <th></th>\n",
       "      <th>Unnamed: 0</th>\n",
       "      <th>TV</th>\n",
       "      <th>Radio</th>\n",
       "      <th>Newspaper</th>\n",
       "      <th>Sales</th>\n",
       "    </tr>\n",
       "  </thead>\n",
       "  <tbody>\n",
       "    <tr>\n",
       "      <th>0</th>\n",
       "      <td>1</td>\n",
       "      <td>230.1</td>\n",
       "      <td>37.8</td>\n",
       "      <td>69.2</td>\n",
       "      <td>22.1</td>\n",
       "    </tr>\n",
       "    <tr>\n",
       "      <th>1</th>\n",
       "      <td>2</td>\n",
       "      <td>44.5</td>\n",
       "      <td>39.3</td>\n",
       "      <td>45.1</td>\n",
       "      <td>10.4</td>\n",
       "    </tr>\n",
       "    <tr>\n",
       "      <th>2</th>\n",
       "      <td>3</td>\n",
       "      <td>17.2</td>\n",
       "      <td>45.9</td>\n",
       "      <td>69.3</td>\n",
       "      <td>9.3</td>\n",
       "    </tr>\n",
       "    <tr>\n",
       "      <th>3</th>\n",
       "      <td>4</td>\n",
       "      <td>151.5</td>\n",
       "      <td>41.3</td>\n",
       "      <td>58.5</td>\n",
       "      <td>18.5</td>\n",
       "    </tr>\n",
       "    <tr>\n",
       "      <th>4</th>\n",
       "      <td>5</td>\n",
       "      <td>180.8</td>\n",
       "      <td>10.8</td>\n",
       "      <td>58.4</td>\n",
       "      <td>12.9</td>\n",
       "    </tr>\n",
       "  </tbody>\n",
       "</table>\n",
       "</div>"
      ],
      "text/plain": [
       "   Unnamed: 0     TV  Radio  Newspaper  Sales\n",
       "0           1  230.1   37.8       69.2   22.1\n",
       "1           2   44.5   39.3       45.1   10.4\n",
       "2           3   17.2   45.9       69.3    9.3\n",
       "3           4  151.5   41.3       58.5   18.5\n",
       "4           5  180.8   10.8       58.4   12.9"
      ]
     },
     "execution_count": 45,
     "metadata": {},
     "output_type": "execute_result"
    }
   ],
   "source": [
    "# Reading the dataset into a data frame\n",
    "\n",
    "sales_df = pd.read_csv(r'C:\\Users\\Dell\\Data_Science\\08_Supervised Machine Learning-20250426T171828Z-001\\08_Supervised Machine Learning\\01_Linear Regression\\Advertisement.csv')\n",
    "sales_df.head()"
   ]
  },
  {
   "cell_type": "markdown",
   "id": "f8f0383a",
   "metadata": {
    "id": "f8f0383a"
   },
   "source": [
    "Data Preprocessing"
   ]
  },
  {
   "cell_type": "code",
   "execution_count": 47,
   "id": "12dcffec",
   "metadata": {
    "colab": {
     "base_uri": "https://localhost:8080/",
     "height": 206
    },
    "executionInfo": {
     "elapsed": 12,
     "status": "ok",
     "timestamp": 1745064798144,
     "user": {
      "displayName": "Arihant Jain",
      "userId": "00542987843204554606"
     },
     "user_tz": -330
    },
    "id": "12dcffec",
    "outputId": "6f4be704-e9e1-4953-d3eb-b21c1c2beeac"
   },
   "outputs": [
    {
     "data": {
      "text/html": [
       "<div>\n",
       "<style scoped>\n",
       "    .dataframe tbody tr th:only-of-type {\n",
       "        vertical-align: middle;\n",
       "    }\n",
       "\n",
       "    .dataframe tbody tr th {\n",
       "        vertical-align: top;\n",
       "    }\n",
       "\n",
       "    .dataframe thead th {\n",
       "        text-align: right;\n",
       "    }\n",
       "</style>\n",
       "<table border=\"1\" class=\"dataframe\">\n",
       "  <thead>\n",
       "    <tr style=\"text-align: right;\">\n",
       "      <th></th>\n",
       "      <th>TV</th>\n",
       "      <th>Radio</th>\n",
       "      <th>Newspaper</th>\n",
       "      <th>Sales</th>\n",
       "    </tr>\n",
       "  </thead>\n",
       "  <tbody>\n",
       "    <tr>\n",
       "      <th>0</th>\n",
       "      <td>230.1</td>\n",
       "      <td>37.8</td>\n",
       "      <td>69.2</td>\n",
       "      <td>22.1</td>\n",
       "    </tr>\n",
       "    <tr>\n",
       "      <th>1</th>\n",
       "      <td>44.5</td>\n",
       "      <td>39.3</td>\n",
       "      <td>45.1</td>\n",
       "      <td>10.4</td>\n",
       "    </tr>\n",
       "    <tr>\n",
       "      <th>2</th>\n",
       "      <td>17.2</td>\n",
       "      <td>45.9</td>\n",
       "      <td>69.3</td>\n",
       "      <td>9.3</td>\n",
       "    </tr>\n",
       "    <tr>\n",
       "      <th>3</th>\n",
       "      <td>151.5</td>\n",
       "      <td>41.3</td>\n",
       "      <td>58.5</td>\n",
       "      <td>18.5</td>\n",
       "    </tr>\n",
       "    <tr>\n",
       "      <th>4</th>\n",
       "      <td>180.8</td>\n",
       "      <td>10.8</td>\n",
       "      <td>58.4</td>\n",
       "      <td>12.9</td>\n",
       "    </tr>\n",
       "  </tbody>\n",
       "</table>\n",
       "</div>"
      ],
      "text/plain": [
       "      TV  Radio  Newspaper  Sales\n",
       "0  230.1   37.8       69.2   22.1\n",
       "1   44.5   39.3       45.1   10.4\n",
       "2   17.2   45.9       69.3    9.3\n",
       "3  151.5   41.3       58.5   18.5\n",
       "4  180.8   10.8       58.4   12.9"
      ]
     },
     "execution_count": 47,
     "metadata": {},
     "output_type": "execute_result"
    }
   ],
   "source": [
    "sales_df.drop(['Unnamed: 0'], axis = 1, inplace = True)\n",
    "sales_df.head()"
   ]
  },
  {
   "cell_type": "code",
   "execution_count": 49,
   "id": "fb76a2b8",
   "metadata": {
    "colab": {
     "base_uri": "https://localhost:8080/"
    },
    "executionInfo": {
     "elapsed": 686,
     "status": "ok",
     "timestamp": 1745064800964,
     "user": {
      "displayName": "Arihant Jain",
      "userId": "00542987843204554606"
     },
     "user_tz": -330
    },
    "id": "fb76a2b8",
    "outputId": "0a5160aa-f71d-451e-8392-715b5ba61071"
   },
   "outputs": [
    {
     "name": "stdout",
     "output_type": "stream",
     "text": [
      "<class 'pandas.core.frame.DataFrame'>\n",
      "RangeIndex: 200 entries, 0 to 199\n",
      "Data columns (total 4 columns):\n",
      " #   Column     Non-Null Count  Dtype  \n",
      "---  ------     --------------  -----  \n",
      " 0   TV         200 non-null    float64\n",
      " 1   Radio      200 non-null    float64\n",
      " 2   Newspaper  200 non-null    float64\n",
      " 3   Sales      200 non-null    float64\n",
      "dtypes: float64(4)\n",
      "memory usage: 6.4 KB\n"
     ]
    }
   ],
   "source": [
    "# Checking for missing values\n",
    "\n",
    "sales_df.info()"
   ]
  },
  {
   "cell_type": "code",
   "execution_count": 51,
   "id": "07468555",
   "metadata": {
    "colab": {
     "base_uri": "https://localhost:8080/",
     "height": 300
    },
    "executionInfo": {
     "elapsed": 904,
     "status": "ok",
     "timestamp": 1745064802463,
     "user": {
      "displayName": "Arihant Jain",
      "userId": "00542987843204554606"
     },
     "user_tz": -330
    },
    "id": "07468555",
    "outputId": "00eac941-eaa5-4a92-cb38-e99c512337af"
   },
   "outputs": [
    {
     "data": {
      "text/html": [
       "<div>\n",
       "<style scoped>\n",
       "    .dataframe tbody tr th:only-of-type {\n",
       "        vertical-align: middle;\n",
       "    }\n",
       "\n",
       "    .dataframe tbody tr th {\n",
       "        vertical-align: top;\n",
       "    }\n",
       "\n",
       "    .dataframe thead th {\n",
       "        text-align: right;\n",
       "    }\n",
       "</style>\n",
       "<table border=\"1\" class=\"dataframe\">\n",
       "  <thead>\n",
       "    <tr style=\"text-align: right;\">\n",
       "      <th></th>\n",
       "      <th>TV</th>\n",
       "      <th>Radio</th>\n",
       "      <th>Newspaper</th>\n",
       "      <th>Sales</th>\n",
       "    </tr>\n",
       "  </thead>\n",
       "  <tbody>\n",
       "    <tr>\n",
       "      <th>count</th>\n",
       "      <td>200.000000</td>\n",
       "      <td>200.000000</td>\n",
       "      <td>200.000000</td>\n",
       "      <td>200.000000</td>\n",
       "    </tr>\n",
       "    <tr>\n",
       "      <th>mean</th>\n",
       "      <td>147.042500</td>\n",
       "      <td>23.264000</td>\n",
       "      <td>30.554000</td>\n",
       "      <td>14.022500</td>\n",
       "    </tr>\n",
       "    <tr>\n",
       "      <th>std</th>\n",
       "      <td>85.854236</td>\n",
       "      <td>14.846809</td>\n",
       "      <td>21.778621</td>\n",
       "      <td>5.217457</td>\n",
       "    </tr>\n",
       "    <tr>\n",
       "      <th>min</th>\n",
       "      <td>0.700000</td>\n",
       "      <td>0.000000</td>\n",
       "      <td>0.300000</td>\n",
       "      <td>1.600000</td>\n",
       "    </tr>\n",
       "    <tr>\n",
       "      <th>25%</th>\n",
       "      <td>74.375000</td>\n",
       "      <td>9.975000</td>\n",
       "      <td>12.750000</td>\n",
       "      <td>10.375000</td>\n",
       "    </tr>\n",
       "    <tr>\n",
       "      <th>50%</th>\n",
       "      <td>149.750000</td>\n",
       "      <td>22.900000</td>\n",
       "      <td>25.750000</td>\n",
       "      <td>12.900000</td>\n",
       "    </tr>\n",
       "    <tr>\n",
       "      <th>75%</th>\n",
       "      <td>218.825000</td>\n",
       "      <td>36.525000</td>\n",
       "      <td>45.100000</td>\n",
       "      <td>17.400000</td>\n",
       "    </tr>\n",
       "    <tr>\n",
       "      <th>max</th>\n",
       "      <td>296.400000</td>\n",
       "      <td>49.600000</td>\n",
       "      <td>114.000000</td>\n",
       "      <td>27.000000</td>\n",
       "    </tr>\n",
       "  </tbody>\n",
       "</table>\n",
       "</div>"
      ],
      "text/plain": [
       "               TV       Radio   Newspaper       Sales\n",
       "count  200.000000  200.000000  200.000000  200.000000\n",
       "mean   147.042500   23.264000   30.554000   14.022500\n",
       "std     85.854236   14.846809   21.778621    5.217457\n",
       "min      0.700000    0.000000    0.300000    1.600000\n",
       "25%     74.375000    9.975000   12.750000   10.375000\n",
       "50%    149.750000   22.900000   25.750000   12.900000\n",
       "75%    218.825000   36.525000   45.100000   17.400000\n",
       "max    296.400000   49.600000  114.000000   27.000000"
      ]
     },
     "execution_count": 51,
     "metadata": {},
     "output_type": "execute_result"
    }
   ],
   "source": [
    "sales_df.describe()"
   ]
  },
  {
   "cell_type": "code",
   "execution_count": 53,
   "id": "b9daf858",
   "metadata": {
    "colab": {
     "base_uri": "https://localhost:8080/",
     "height": 209
    },
    "executionInfo": {
     "elapsed": 11,
     "status": "ok",
     "timestamp": 1745064804280,
     "user": {
      "displayName": "Arihant Jain",
      "userId": "00542987843204554606"
     },
     "user_tz": -330
    },
    "id": "b9daf858",
    "outputId": "3fa3fb72-ce21-424c-836e-43ced6223753"
   },
   "outputs": [
    {
     "data": {
      "text/plain": [
       "TV           0\n",
       "Radio        0\n",
       "Newspaper    0\n",
       "Sales        0\n",
       "dtype: int64"
      ]
     },
     "execution_count": 53,
     "metadata": {},
     "output_type": "execute_result"
    }
   ],
   "source": [
    "sales_df.isnull().sum()"
   ]
  },
  {
   "cell_type": "code",
   "execution_count": 55,
   "id": "046868be",
   "metadata": {
    "colab": {
     "base_uri": "https://localhost:8080/"
    },
    "executionInfo": {
     "elapsed": 4,
     "status": "ok",
     "timestamp": 1745064806465,
     "user": {
      "displayName": "Arihant Jain",
      "userId": "00542987843204554606"
     },
     "user_tz": -330
    },
    "id": "046868be",
    "outputId": "05f1f9d9-4afd-4784-f7c8-7c4b7912f81f"
   },
   "outputs": [
    {
     "data": {
      "text/plain": [
       "0"
      ]
     },
     "execution_count": 55,
     "metadata": {},
     "output_type": "execute_result"
    }
   ],
   "source": [
    "# Checking for duplicate values\n",
    "\n",
    "sales_df.duplicated().sum()"
   ]
  },
  {
   "cell_type": "code",
   "execution_count": 57,
   "id": "505aca05",
   "metadata": {
    "colab": {
     "base_uri": "https://localhost:8080/",
     "height": 112
    },
    "executionInfo": {
     "elapsed": 739,
     "status": "ok",
     "timestamp": 1745064808871,
     "user": {
      "displayName": "Arihant Jain",
      "userId": "00542987843204554606"
     },
     "user_tz": -330
    },
    "id": "505aca05",
    "outputId": "cbbc7715-f3c8-4b57-c9f9-628d24b16e08"
   },
   "outputs": [
    {
     "data": {
      "text/html": [
       "<div>\n",
       "<style scoped>\n",
       "    .dataframe tbody tr th:only-of-type {\n",
       "        vertical-align: middle;\n",
       "    }\n",
       "\n",
       "    .dataframe tbody tr th {\n",
       "        vertical-align: top;\n",
       "    }\n",
       "\n",
       "    .dataframe thead th {\n",
       "        text-align: right;\n",
       "    }\n",
       "</style>\n",
       "<table border=\"1\" class=\"dataframe\">\n",
       "  <thead>\n",
       "    <tr style=\"text-align: right;\">\n",
       "      <th></th>\n",
       "      <th>TV</th>\n",
       "      <th>Radio</th>\n",
       "      <th>Newspaper</th>\n",
       "      <th>Sales</th>\n",
       "    </tr>\n",
       "  </thead>\n",
       "  <tbody>\n",
       "    <tr>\n",
       "      <th>98</th>\n",
       "      <td>289.7</td>\n",
       "      <td>42.3</td>\n",
       "      <td>51.2</td>\n",
       "      <td>25.4</td>\n",
       "    </tr>\n",
       "    <tr>\n",
       "      <th>123</th>\n",
       "      <td>123.1</td>\n",
       "      <td>34.6</td>\n",
       "      <td>12.4</td>\n",
       "      <td>15.2</td>\n",
       "    </tr>\n",
       "  </tbody>\n",
       "</table>\n",
       "</div>"
      ],
      "text/plain": [
       "        TV  Radio  Newspaper  Sales\n",
       "98   289.7   42.3       51.2   25.4\n",
       "123  123.1   34.6       12.4   15.2"
      ]
     },
     "execution_count": 57,
     "metadata": {},
     "output_type": "execute_result"
    }
   ],
   "source": [
    "# Train test split\n",
    "train_df, validation_df = train_test_split(sales_df, train_size = 0.75, random_state = 1)\n",
    "train_df.head(2)"
   ]
  },
  {
   "cell_type": "code",
   "execution_count": 59,
   "id": "3c1d538c",
   "metadata": {
    "colab": {
     "base_uri": "https://localhost:8080/",
     "height": 112
    },
    "executionInfo": {
     "elapsed": 14,
     "status": "ok",
     "timestamp": 1745064811995,
     "user": {
      "displayName": "Arihant Jain",
      "userId": "00542987843204554606"
     },
     "user_tz": -330
    },
    "id": "3c1d538c",
    "outputId": "6e1a7b65-7e1b-4091-c3b0-e0cf5b62df11"
   },
   "outputs": [
    {
     "data": {
      "text/html": [
       "<div>\n",
       "<style scoped>\n",
       "    .dataframe tbody tr th:only-of-type {\n",
       "        vertical-align: middle;\n",
       "    }\n",
       "\n",
       "    .dataframe tbody tr th {\n",
       "        vertical-align: top;\n",
       "    }\n",
       "\n",
       "    .dataframe thead th {\n",
       "        text-align: right;\n",
       "    }\n",
       "</style>\n",
       "<table border=\"1\" class=\"dataframe\">\n",
       "  <thead>\n",
       "    <tr style=\"text-align: right;\">\n",
       "      <th></th>\n",
       "      <th>TV</th>\n",
       "      <th>Radio</th>\n",
       "      <th>Newspaper</th>\n",
       "      <th>Sales</th>\n",
       "    </tr>\n",
       "  </thead>\n",
       "  <tbody>\n",
       "    <tr>\n",
       "      <th>58</th>\n",
       "      <td>210.8</td>\n",
       "      <td>49.6</td>\n",
       "      <td>37.7</td>\n",
       "      <td>23.8</td>\n",
       "    </tr>\n",
       "    <tr>\n",
       "      <th>40</th>\n",
       "      <td>202.5</td>\n",
       "      <td>22.3</td>\n",
       "      <td>31.6</td>\n",
       "      <td>16.6</td>\n",
       "    </tr>\n",
       "  </tbody>\n",
       "</table>\n",
       "</div>"
      ],
      "text/plain": [
       "       TV  Radio  Newspaper  Sales\n",
       "58  210.8   49.6       37.7   23.8\n",
       "40  202.5   22.3       31.6   16.6"
      ]
     },
     "execution_count": 59,
     "metadata": {},
     "output_type": "execute_result"
    }
   ],
   "source": [
    "validation_df.head(2)"
   ]
  },
  {
   "cell_type": "code",
   "execution_count": 61,
   "id": "1c3608b8",
   "metadata": {
    "colab": {
     "base_uri": "https://localhost:8080/",
     "height": 712
    },
    "executionInfo": {
     "elapsed": 2865,
     "status": "ok",
     "timestamp": 1745064817737,
     "user": {
      "displayName": "Arihant Jain",
      "userId": "00542987843204554606"
     },
     "user_tz": -330
    },
    "id": "1c3608b8",
    "outputId": "5db4ec54-ab68-438d-f682-ffb3f6935ccf"
   },
   "outputs": [
    {
     "data": {
      "text/plain": [
       "<Figure size 640x480 with 0 Axes>"
      ]
     },
     "metadata": {},
     "output_type": "display_data"
    },
    {
     "data": {
      "text/plain": [
       "<Figure size 640x480 with 0 Axes>"
      ]
     },
     "metadata": {},
     "output_type": "display_data"
    },
    {
     "data": {
      "image/png": "[encoded data removed]",
      "text/plain": [
       "<Figure size 1000x800 with 16 Axes>"
      ]
     },
     "metadata": {},
     "output_type": "display_data"
    }
   ],
   "source": [
    "# Using scater-matrix plot\n",
    "\n",
    "scatter_matrix(train_df, diagonal = \"hist\", marker = \"o\", c = train_df['Sales'], cmap = 'coolwarm', figsize = (10,8))\n",
    "plt.show()"
   ]
  },
  {
   "cell_type": "code",
   "execution_count": 62,
   "id": "474091c6",
   "metadata": {
    "colab": {
     "base_uri": "https://localhost:8080/",
     "height": 480
    },
    "executionInfo": {
     "elapsed": 564,
     "status": "ok",
     "timestamp": 1729573948950,
     "user": {
      "displayName": "Arihant Jain",
      "userId": "00542987843204554606"
     },
     "user_tz": -330
    },
    "id": "474091c6",
    "outputId": "7c4172c0-6b2f-49e5-a1ae-81cfc184414f"
   },
   "outputs": [
    {
     "data": {
      "image/png": "[encoded data removed]",
      "text/plain": [
       "<Figure size 640x480 with 4 Axes>"
      ]
     },
     "metadata": {},
     "output_type": "display_data"
    }
   ],
   "source": [
    "# Using box plot to see the distribution of each feature\n",
    "plt.figure()\n",
    "\n",
    "for col in train_df.select_dtypes(include = ['number']).columns:\n",
    "    plt.subplot(2, 2, train_df.columns.get_loc(col) + 1)  # Adjust the subplot layout as needed\n",
    "    sns.boxplot(x=train_df[col])\n",
    "    plt.title(col)\n",
    "\n",
    "plt.tight_layout()\n",
    "plt.show()"
   ]
  },
  {
   "cell_type": "code",
   "execution_count": 64,
   "id": "063f7445",
   "metadata": {
    "colab": {
     "base_uri": "https://localhost:8080/",
     "height": 480
    },
    "executionInfo": {
     "elapsed": 2179,
     "status": "ok",
     "timestamp": 1729573951111,
     "user": {
      "displayName": "Arihant Jain",
      "userId": "00542987843204554606"
     },
     "user_tz": -330
    },
    "id": "063f7445",
    "outputId": "633cb566-3e98-4aa1-df15-ec74313c29fd"
   },
   "outputs": [
    {
     "data": {
      "image/png": "[encoded data removed]",
      "text/plain": [
       "<Figure size 640x480 with 4 Axes>"
      ]
     },
     "metadata": {},
     "output_type": "display_data"
    }
   ],
   "source": [
    "# Using distplot to see the distribution of each feature\n",
    "\n",
    "plt.figure()\n",
    "\n",
    "for col in train_df.select_dtypes(include = ['number']).columns:\n",
    "    plt.subplot(2, 2, train_df.columns.get_loc(col) + 1)  # Adjust the subplot layout as needed\n",
    "    sns.distplot(x=train_df[col])\n",
    "    plt.title(col)\n",
    "\n",
    "plt.tight_layout()\n",
    "plt.show()"
   ]
  },
  {
   "cell_type": "code",
   "execution_count": 66,
   "id": "b8a0213b",
   "metadata": {
    "colab": {
     "base_uri": "https://localhost:8080/",
     "height": 440
    },
    "executionInfo": {
     "elapsed": 17,
     "status": "ok",
     "timestamp": 1729573951111,
     "user": {
      "displayName": "Arihant Jain",
      "userId": "00542987843204554606"
     },
     "user_tz": -330
    },
    "id": "b8a0213b",
    "outputId": "960640b7-b8f5-4066-bfc8-0214f60afcef"
   },
   "outputs": [
    {
     "data": {
      "image/png": "[encoded data removed]",
      "text/plain": [
       "<Figure size 640x480 with 2 Axes>"
      ]
     },
     "metadata": {},
     "output_type": "display_data"
    }
   ],
   "source": [
    "# Using heatmap to see the relationships\n",
    "\n",
    "sns.heatmap(train_df.corr(), annot = True, cmap = \"coolwarm\")\n",
    "plt.show()"
   ]
  },
  {
   "cell_type": "code",
   "execution_count": 67,
   "id": "3b71dd32",
   "metadata": {
    "executionInfo": {
     "elapsed": 687,
     "status": "ok",
     "timestamp": 1745064824874,
     "user": {
      "displayName": "Arihant Jain",
      "userId": "00542987843204554606"
     },
     "user_tz": -330
    },
    "id": "3b71dd32"
   },
   "outputs": [],
   "source": [
    "# Checking each variable against the target variable\n",
    "\n",
    "def sales_per(col, color):\n",
    "    avg_sales = train_df.groupby(col)['Sales'].mean().reset_index()\n",
    "    plt.figure(figsize = (10, 6))\n",
    "    plt.bar(avg_sales[col], avg_sales['Sales'], color = color)\n",
    "    plt.title('Sales based on {} ads'.format(col))\n",
    "    plt.xlabel(col)\n",
    "    plt.ylabel('Sales')\n",
    "    plt.grid(axis='y', linestyle='--', alpha=0.7)\n",
    "    plt.show()"
   ]
  },
  {
   "cell_type": "code",
   "execution_count": 71,
   "id": "049d7ab3",
   "metadata": {
    "colab": {
     "base_uri": "https://localhost:8080/",
     "height": 363
    },
    "executionInfo": {
     "elapsed": 15,
     "status": "ok",
     "timestamp": 1745064827386,
     "user": {
      "displayName": "Arihant Jain",
      "userId": "00542987843204554606"
     },
     "user_tz": -330
    },
    "id": "049d7ab3",
    "outputId": "a1b2d62f-a922-458c-b094-5b3a771cf009"
   },
   "outputs": [
    {
     "data": {
      "text/html": [
       "<div>\n",
       "<style scoped>\n",
       "    .dataframe tbody tr th:only-of-type {\n",
       "        vertical-align: middle;\n",
       "    }\n",
       "\n",
       "    .dataframe tbody tr th {\n",
       "        vertical-align: top;\n",
       "    }\n",
       "\n",
       "    .dataframe thead th {\n",
       "        text-align: right;\n",
       "    }\n",
       "</style>\n",
       "<table border=\"1\" class=\"dataframe\">\n",
       "  <thead>\n",
       "    <tr style=\"text-align: right;\">\n",
       "      <th></th>\n",
       "      <th>TV</th>\n",
       "      <th>Radio</th>\n",
       "      <th>Newspaper</th>\n",
       "      <th>Sales</th>\n",
       "    </tr>\n",
       "  </thead>\n",
       "  <tbody>\n",
       "    <tr>\n",
       "      <th>175</th>\n",
       "      <td>276.9</td>\n",
       "      <td>48.9</td>\n",
       "      <td>41.8</td>\n",
       "      <td>27.0</td>\n",
       "    </tr>\n",
       "    <tr>\n",
       "      <th>183</th>\n",
       "      <td>287.6</td>\n",
       "      <td>43.0</td>\n",
       "      <td>71.8</td>\n",
       "      <td>26.2</td>\n",
       "    </tr>\n",
       "    <tr>\n",
       "      <th>98</th>\n",
       "      <td>289.7</td>\n",
       "      <td>42.3</td>\n",
       "      <td>51.2</td>\n",
       "      <td>25.4</td>\n",
       "    </tr>\n",
       "    <tr>\n",
       "      <th>36</th>\n",
       "      <td>266.9</td>\n",
       "      <td>43.8</td>\n",
       "      <td>5.0</td>\n",
       "      <td>25.4</td>\n",
       "    </tr>\n",
       "    <tr>\n",
       "      <th>147</th>\n",
       "      <td>243.2</td>\n",
       "      <td>49.0</td>\n",
       "      <td>44.3</td>\n",
       "      <td>25.4</td>\n",
       "    </tr>\n",
       "    <tr>\n",
       "      <th>128</th>\n",
       "      <td>220.3</td>\n",
       "      <td>49.0</td>\n",
       "      <td>3.2</td>\n",
       "      <td>24.7</td>\n",
       "    </tr>\n",
       "    <tr>\n",
       "      <th>17</th>\n",
       "      <td>281.4</td>\n",
       "      <td>39.6</td>\n",
       "      <td>55.8</td>\n",
       "      <td>24.4</td>\n",
       "    </tr>\n",
       "    <tr>\n",
       "      <th>61</th>\n",
       "      <td>261.3</td>\n",
       "      <td>42.7</td>\n",
       "      <td>54.7</td>\n",
       "      <td>24.2</td>\n",
       "    </tr>\n",
       "    <tr>\n",
       "      <th>101</th>\n",
       "      <td>296.4</td>\n",
       "      <td>36.3</td>\n",
       "      <td>100.9</td>\n",
       "      <td>23.8</td>\n",
       "    </tr>\n",
       "    <tr>\n",
       "      <th>55</th>\n",
       "      <td>198.9</td>\n",
       "      <td>49.4</td>\n",
       "      <td>60.0</td>\n",
       "      <td>23.7</td>\n",
       "    </tr>\n",
       "  </tbody>\n",
       "</table>\n",
       "</div>"
      ],
      "text/plain": [
       "        TV  Radio  Newspaper  Sales\n",
       "175  276.9   48.9       41.8   27.0\n",
       "183  287.6   43.0       71.8   26.2\n",
       "98   289.7   42.3       51.2   25.4\n",
       "36   266.9   43.8        5.0   25.4\n",
       "147  243.2   49.0       44.3   25.4\n",
       "128  220.3   49.0        3.2   24.7\n",
       "17   281.4   39.6       55.8   24.4\n",
       "61   261.3   42.7       54.7   24.2\n",
       "101  296.4   36.3      100.9   23.8\n",
       "55   198.9   49.4       60.0   23.7"
      ]
     },
     "execution_count": 71,
     "metadata": {},
     "output_type": "execute_result"
    }
   ],
   "source": [
    "# Getting the ad details of top 10 selling products\n",
    "\n",
    "top_10_products = train_df.nlargest(10, 'Sales')\n",
    "top_10_products "
   ]
  },
  {
   "cell_type": "code",
   "execution_count": 73,
   "id": "8806fa20",
   "metadata": {
    "colab": {
     "base_uri": "https://localhost:8080/",
     "height": 563
    },
    "executionInfo": {
     "elapsed": 564,
     "status": "ok",
     "timestamp": 1745064830085,
     "user": {
      "displayName": "Arihant Jain",
      "userId": "00542987843204554606"
     },
     "user_tz": -330
    },
    "id": "8806fa20",
    "outputId": "748767bb-bce7-459c-a5b7-0de4a7759602"
   },
   "outputs": [
    {
     "data": {
      "image/png": "[encoded data removed]",
      "text/plain": [
       "<Figure size 1000x600 with 1 Axes>"
      ]
     },
     "metadata": {},
     "output_type": "display_data"
    }
   ],
   "source": [
    "ax = top_10_products.plot(kind='bar', figsize=(10, 6), width=0.8)\n",
    "ax.set_ylabel('Values')\n",
    "plt.title('Sales vs Ads')\n",
    "\n",
    "plt.show()"
   ]
  },
  {
   "cell_type": "code",
   "execution_count": 75,
   "id": "1807dfcb",
   "metadata": {
    "colab": {
     "base_uri": "https://localhost:8080/",
     "height": 112
    },
    "executionInfo": {
     "elapsed": 413,
     "status": "ok",
     "timestamp": 1745064832189,
     "user": {
      "displayName": "Arihant Jain",
      "userId": "00542987843204554606"
     },
     "user_tz": -330
    },
    "id": "1807dfcb",
    "outputId": "ceebfca9-a9aa-4b3a-89ac-4621f362efd1"
   },
   "outputs": [
    {
     "data": {
      "text/html": [
       "<div>\n",
       "<style scoped>\n",
       "    .dataframe tbody tr th:only-of-type {\n",
       "        vertical-align: middle;\n",
       "    }\n",
       "\n",
       "    .dataframe tbody tr th {\n",
       "        vertical-align: top;\n",
       "    }\n",
       "\n",
       "    .dataframe thead th {\n",
       "        text-align: right;\n",
       "    }\n",
       "</style>\n",
       "<table border=\"1\" class=\"dataframe\">\n",
       "  <thead>\n",
       "    <tr style=\"text-align: right;\">\n",
       "      <th></th>\n",
       "      <th>TV</th>\n",
       "      <th>Radio</th>\n",
       "      <th>Newspaper</th>\n",
       "      <th>Sales</th>\n",
       "      <th>Total_Ad_Spent</th>\n",
       "    </tr>\n",
       "  </thead>\n",
       "  <tbody>\n",
       "    <tr>\n",
       "      <th>98</th>\n",
       "      <td>289.7</td>\n",
       "      <td>42.3</td>\n",
       "      <td>51.2</td>\n",
       "      <td>25.4</td>\n",
       "      <td>383.2</td>\n",
       "    </tr>\n",
       "    <tr>\n",
       "      <th>123</th>\n",
       "      <td>123.1</td>\n",
       "      <td>34.6</td>\n",
       "      <td>12.4</td>\n",
       "      <td>15.2</td>\n",
       "      <td>170.1</td>\n",
       "    </tr>\n",
       "  </tbody>\n",
       "</table>\n",
       "</div>"
      ],
      "text/plain": [
       "        TV  Radio  Newspaper  Sales  Total_Ad_Spent\n",
       "98   289.7   42.3       51.2   25.4           383.2\n",
       "123  123.1   34.6       12.4   15.2           170.1"
      ]
     },
     "execution_count": 75,
     "metadata": {},
     "output_type": "execute_result"
    }
   ],
   "source": [
    "# Getting the sales details of products with more ads\n",
    "\n",
    "train_df['Total_Ad_Spent'] = train_df['TV'] + train_df['Radio'] + train_df['Newspaper']\n",
    "train_df.head(2)"
   ]
  },
  {
   "cell_type": "code",
   "execution_count": 77,
   "id": "6e806fe6",
   "metadata": {
    "colab": {
     "base_uri": "https://localhost:8080/",
     "height": 363
    },
    "executionInfo": {
     "elapsed": 694,
     "status": "ok",
     "timestamp": 1745064833334,
     "user": {
      "displayName": "Arihant Jain",
      "userId": "00542987843204554606"
     },
     "user_tz": -330
    },
    "id": "6e806fe6",
    "outputId": "698ce4c2-4bee-4794-d3d2-27a550558f0a"
   },
   "outputs": [
    {
     "data": {
      "text/html": [
       "<div>\n",
       "<style scoped>\n",
       "    .dataframe tbody tr th:only-of-type {\n",
       "        vertical-align: middle;\n",
       "    }\n",
       "\n",
       "    .dataframe tbody tr th {\n",
       "        vertical-align: top;\n",
       "    }\n",
       "\n",
       "    .dataframe thead th {\n",
       "        text-align: right;\n",
       "    }\n",
       "</style>\n",
       "<table border=\"1\" class=\"dataframe\">\n",
       "  <thead>\n",
       "    <tr style=\"text-align: right;\">\n",
       "      <th></th>\n",
       "      <th>TV</th>\n",
       "      <th>Radio</th>\n",
       "      <th>Newspaper</th>\n",
       "      <th>Sales</th>\n",
       "      <th>Total_Ad_Spent</th>\n",
       "    </tr>\n",
       "  </thead>\n",
       "  <tbody>\n",
       "    <tr>\n",
       "      <th>101</th>\n",
       "      <td>296.4</td>\n",
       "      <td>36.3</td>\n",
       "      <td>100.9</td>\n",
       "      <td>23.8</td>\n",
       "      <td>433.6</td>\n",
       "    </tr>\n",
       "    <tr>\n",
       "      <th>183</th>\n",
       "      <td>287.6</td>\n",
       "      <td>43.0</td>\n",
       "      <td>71.8</td>\n",
       "      <td>26.2</td>\n",
       "      <td>402.4</td>\n",
       "    </tr>\n",
       "    <tr>\n",
       "      <th>98</th>\n",
       "      <td>289.7</td>\n",
       "      <td>42.3</td>\n",
       "      <td>51.2</td>\n",
       "      <td>25.4</td>\n",
       "      <td>383.2</td>\n",
       "    </tr>\n",
       "    <tr>\n",
       "      <th>17</th>\n",
       "      <td>281.4</td>\n",
       "      <td>39.6</td>\n",
       "      <td>55.8</td>\n",
       "      <td>24.4</td>\n",
       "      <td>376.8</td>\n",
       "    </tr>\n",
       "    <tr>\n",
       "      <th>175</th>\n",
       "      <td>276.9</td>\n",
       "      <td>48.9</td>\n",
       "      <td>41.8</td>\n",
       "      <td>27.0</td>\n",
       "      <td>367.6</td>\n",
       "    </tr>\n",
       "    <tr>\n",
       "      <th>30</th>\n",
       "      <td>292.9</td>\n",
       "      <td>28.3</td>\n",
       "      <td>43.2</td>\n",
       "      <td>21.4</td>\n",
       "      <td>364.4</td>\n",
       "    </tr>\n",
       "    <tr>\n",
       "      <th>137</th>\n",
       "      <td>273.7</td>\n",
       "      <td>28.9</td>\n",
       "      <td>59.7</td>\n",
       "      <td>20.8</td>\n",
       "      <td>362.3</td>\n",
       "    </tr>\n",
       "    <tr>\n",
       "      <th>93</th>\n",
       "      <td>250.9</td>\n",
       "      <td>36.5</td>\n",
       "      <td>72.3</td>\n",
       "      <td>22.2</td>\n",
       "      <td>359.7</td>\n",
       "    </tr>\n",
       "    <tr>\n",
       "      <th>61</th>\n",
       "      <td>261.3</td>\n",
       "      <td>42.7</td>\n",
       "      <td>54.7</td>\n",
       "      <td>24.2</td>\n",
       "      <td>358.7</td>\n",
       "    </tr>\n",
       "    <tr>\n",
       "      <th>0</th>\n",
       "      <td>230.1</td>\n",
       "      <td>37.8</td>\n",
       "      <td>69.2</td>\n",
       "      <td>22.1</td>\n",
       "      <td>337.1</td>\n",
       "    </tr>\n",
       "  </tbody>\n",
       "</table>\n",
       "</div>"
      ],
      "text/plain": [
       "        TV  Radio  Newspaper  Sales  Total_Ad_Spent\n",
       "101  296.4   36.3      100.9   23.8           433.6\n",
       "183  287.6   43.0       71.8   26.2           402.4\n",
       "98   289.7   42.3       51.2   25.4           383.2\n",
       "17   281.4   39.6       55.8   24.4           376.8\n",
       "175  276.9   48.9       41.8   27.0           367.6\n",
       "30   292.9   28.3       43.2   21.4           364.4\n",
       "137  273.7   28.9       59.7   20.8           362.3\n",
       "93   250.9   36.5       72.3   22.2           359.7\n",
       "61   261.3   42.7       54.7   24.2           358.7\n",
       "0    230.1   37.8       69.2   22.1           337.1"
      ]
     },
     "execution_count": 77,
     "metadata": {},
     "output_type": "execute_result"
    }
   ],
   "source": [
    "top_10_ads = train_df.nlargest(10, 'Total_Ad_Spent')\n",
    "top_10_ads"
   ]
  },
  {
   "cell_type": "code",
   "execution_count": 79,
   "id": "bcc4d349",
   "metadata": {
    "executionInfo": {
     "elapsed": 2,
     "status": "ok",
     "timestamp": 1745064835604,
     "user": {
      "displayName": "Arihant Jain",
      "userId": "00542987843204554606"
     },
     "user_tz": -330
    },
    "id": "bcc4d349"
   },
   "outputs": [],
   "source": [
    "top_10_ads.drop(['Total_Ad_Spent'], axis = 1, inplace = True)\n",
    "train_df.drop(['Total_Ad_Spent'], axis = 1, inplace = True)"
   ]
  },
  {
   "cell_type": "code",
   "execution_count": 81,
   "id": "5c9aea3a",
   "metadata": {
    "colab": {
     "base_uri": "https://localhost:8080/",
     "height": 563
    },
    "executionInfo": {
     "elapsed": 805,
     "status": "ok",
     "timestamp": 1729573965007,
     "user": {
      "displayName": "Arihant Jain",
      "userId": "00542987843204554606"
     },
     "user_tz": -330
    },
    "id": "5c9aea3a",
    "outputId": "9b2b5f16-e6fa-4329-b20b-8345402e76a3"
   },
   "outputs": [
    {
     "data": {
      "image/png": "[encoded data removed]",
      "text/plain": [
       "<Figure size 1000x600 with 1 Axes>"
      ]
     },
     "metadata": {},
     "output_type": "display_data"
    }
   ],
   "source": [
    "ax = top_10_ads.plot(kind='bar', figsize=(10, 6), width=0.8)\n",
    "ax.set_ylabel('Values')\n",
    "plt.title('Sales vs Ads')\n",
    "\n",
    "plt.show()"
   ]
  },
  {
   "cell_type": "markdown",
   "id": "f5e4a2cf",
   "metadata": {
    "id": "f5e4a2cf"
   },
   "source": [
    "Deductions from the visuals"
   ]
  },
  {
   "cell_type": "raw",
   "id": "3cb99afb",
   "metadata": {
    "id": "3cb99afb"
   },
   "source": [
    "\n",
    "We can clearly see that products with increased TV ads, have increased sales.\n",
    "While we have a mixed output in the other categories.\n",
    "We see a small amount of outliers in the Newspapers category, while the other categories have no outliers.\n",
    "We can build models with and without outliers to check which is better.\n",
    "We see that the Sales is highly correlated with TV and the the relation seems to be little less with the other categories.\n",
    "The products with top TV ads are products in indices 101, 42, 30, 98, 183, 188, 169, 17 and 150\n",
    "The products with top Radio ads are products in indices 37, 55, 147, 128, 175, 5, 15, 135, 105 and 53\n",
    "The products with top Newspaper ads are products in indices 101, 75, 141, 5, 88, 93, 183, 2, 0 and 12\n",
    "The products with top Newspaper ads are products in indices 175, 183, 98, 147, 36, 128, 17, 61, 101 and 55\n",
    "From the bar graphs we can confirm that the sales increase with increse in TV ads and the other categories have a mixed output.\n",
    "From the other two graphs comparing sales we see that 6 products with highest total ads are in the top 10 highest selling products.\n",
    "We can also observe that 5 products with highest TV ads are in the top 10 highest selling products.\n",
    "We can see while only 4 products with highest radio are top seeling, 2 of them are unique to Radios, meaning they are not in highest TV or Total ads.\n",
    "We see only 2 products from highest Newspaper category having top sales, this maybe because of the other category ads also."
   ]
  },
  {
   "cell_type": "code",
   "execution_count": 84,
   "id": "e0a85163",
   "metadata": {
    "colab": {
     "base_uri": "https://localhost:8080/",
     "height": 112
    },
    "executionInfo": {
     "elapsed": 14,
     "status": "ok",
     "timestamp": 1745064839767,
     "user": {
      "displayName": "Arihant Jain",
      "userId": "00542987843204554606"
     },
     "user_tz": -330
    },
    "id": "e0a85163",
    "outputId": "1d8ede86-1f51-403e-a42c-06a6d44c5e8e"
   },
   "outputs": [
    {
     "data": {
      "text/html": [
       "<div>\n",
       "<style scoped>\n",
       "    .dataframe tbody tr th:only-of-type {\n",
       "        vertical-align: middle;\n",
       "    }\n",
       "\n",
       "    .dataframe tbody tr th {\n",
       "        vertical-align: top;\n",
       "    }\n",
       "\n",
       "    .dataframe thead th {\n",
       "        text-align: right;\n",
       "    }\n",
       "</style>\n",
       "<table border=\"1\" class=\"dataframe\">\n",
       "  <thead>\n",
       "    <tr style=\"text-align: right;\">\n",
       "      <th></th>\n",
       "      <th>TV</th>\n",
       "      <th>Radio</th>\n",
       "      <th>Newspaper</th>\n",
       "    </tr>\n",
       "  </thead>\n",
       "  <tbody>\n",
       "    <tr>\n",
       "      <th>98</th>\n",
       "      <td>289.7</td>\n",
       "      <td>42.3</td>\n",
       "      <td>51.2</td>\n",
       "    </tr>\n",
       "    <tr>\n",
       "      <th>123</th>\n",
       "      <td>123.1</td>\n",
       "      <td>34.6</td>\n",
       "      <td>12.4</td>\n",
       "    </tr>\n",
       "  </tbody>\n",
       "</table>\n",
       "</div>"
      ],
      "text/plain": [
       "        TV  Radio  Newspaper\n",
       "98   289.7   42.3       51.2\n",
       "123  123.1   34.6       12.4"
      ]
     },
     "execution_count": 84,
     "metadata": {},
     "output_type": "execute_result"
    }
   ],
   "source": [
    "# Splitting dependent and independent variable\n",
    "\n",
    "raw_x_train = train_df.drop(['Sales'], axis = 1)\n",
    "raw_y_train = train_df['Sales']\n",
    "\n",
    "raw_x_val = validation_df.drop(['Sales'], axis = 1)\n",
    "raw_y_val = validation_df['Sales']\n",
    "\n",
    "raw_x_train.head(2)"
   ]
  },
  {
   "cell_type": "code",
   "execution_count": 86,
   "id": "VDt6noN4i6_f",
   "metadata": {
    "colab": {
     "base_uri": "https://localhost:8080/",
     "height": 458
    },
    "executionInfo": {
     "elapsed": 405,
     "status": "ok",
     "timestamp": 1745064842746,
     "user": {
      "displayName": "Arihant Jain",
      "userId": "00542987843204554606"
     },
     "user_tz": -330
    },
    "id": "VDt6noN4i6_f",
    "outputId": "d3f0b21a-40ec-499f-f1a8-16045027174c"
   },
   "outputs": [
    {
     "data": {
      "text/plain": [
       "98     25.4\n",
       "123    15.2\n",
       "119     6.6\n",
       "53     21.2\n",
       "33     17.4\n",
       "       ... \n",
       "133    19.6\n",
       "137    20.8\n",
       "72      8.8\n",
       "140    10.9\n",
       "37     14.7\n",
       "Name: Sales, Length: 150, dtype: float64"
      ]
     },
     "execution_count": 86,
     "metadata": {},
     "output_type": "execute_result"
    }
   ],
   "source": [
    "raw_y_train"
   ]
  },
  {
   "cell_type": "code",
   "execution_count": 88,
   "id": "fd00dd4b",
   "metadata": {
    "colab": {
     "base_uri": "https://localhost:8080/",
     "height": 112
    },
    "executionInfo": {
     "elapsed": 471,
     "status": "ok",
     "timestamp": 1745064845061,
     "user": {
      "displayName": "Arihant Jain",
      "userId": "00542987843204554606"
     },
     "user_tz": -330
    },
    "id": "fd00dd4b",
    "outputId": "06d86ffc-35fd-4c1c-9b40-3a9c6d29cb00"
   },
   "outputs": [
    {
     "data": {
      "text/html": [
       "<div>\n",
       "<style scoped>\n",
       "    .dataframe tbody tr th:only-of-type {\n",
       "        vertical-align: middle;\n",
       "    }\n",
       "\n",
       "    .dataframe tbody tr th {\n",
       "        vertical-align: top;\n",
       "    }\n",
       "\n",
       "    .dataframe thead th {\n",
       "        text-align: right;\n",
       "    }\n",
       "</style>\n",
       "<table border=\"1\" class=\"dataframe\">\n",
       "  <thead>\n",
       "    <tr style=\"text-align: right;\">\n",
       "      <th></th>\n",
       "      <th>TV</th>\n",
       "      <th>Radio</th>\n",
       "      <th>Newspaper</th>\n",
       "    </tr>\n",
       "  </thead>\n",
       "  <tbody>\n",
       "    <tr>\n",
       "      <th>58</th>\n",
       "      <td>210.8</td>\n",
       "      <td>49.6</td>\n",
       "      <td>37.7</td>\n",
       "    </tr>\n",
       "    <tr>\n",
       "      <th>40</th>\n",
       "      <td>202.5</td>\n",
       "      <td>22.3</td>\n",
       "      <td>31.6</td>\n",
       "    </tr>\n",
       "  </tbody>\n",
       "</table>\n",
       "</div>"
      ],
      "text/plain": [
       "       TV  Radio  Newspaper\n",
       "58  210.8   49.6       37.7\n",
       "40  202.5   22.3       31.6"
      ]
     },
     "execution_count": 88,
     "metadata": {},
     "output_type": "execute_result"
    }
   ],
   "source": [
    "raw_x_val.head(2)"
   ]
  },
  {
   "cell_type": "code",
   "execution_count": 90,
   "id": "f8fb5232",
   "metadata": {
    "executionInfo": {
     "elapsed": 421,
     "status": "ok",
     "timestamp": 1745064847821,
     "user": {
      "displayName": "Arihant Jain",
      "userId": "00542987843204554606"
     },
     "user_tz": -330
    },
    "id": "f8fb5232"
   },
   "outputs": [],
   "source": [
    "# Building the models\n",
    "\n",
    "# Linear Regression model\n",
    "linear_model_raw = LinearRegression()\n",
    "linear_model_raw.fit(raw_x_train, raw_y_train)\n",
    "raw_y_pred_train_lr = linear_model_raw.predict(raw_x_train)\n",
    "raw_y_pred_val_lr = linear_model_raw.predict(raw_x_val)"
   ]
  },
  {
   "cell_type": "code",
   "execution_count": 92,
   "id": "6dccc852",
   "metadata": {
    "colab": {
     "base_uri": "https://localhost:8080/"
    },
    "executionInfo": {
     "elapsed": 5,
     "status": "ok",
     "timestamp": 1745064849870,
     "user": {
      "displayName": "Arihant Jain",
      "userId": "00542987843204554606"
     },
     "user_tz": -330
    },
    "id": "6dccc852",
    "outputId": "86ac4a6a-c8e5-451c-ab37-a9b8e479857f"
   },
   "outputs": [
    {
     "name": "stdout",
     "output_type": "stream",
     "text": [
      "Accuracy Scores for Linear Regression model on raw data\n",
      "Mean Squared Error : 1.9730456202283384\n",
      "Mean Squared Error : 1.9730456202283384\n",
      "R-squared Score (Train) : 0.890307557755665\n",
      "R-squared Score (Test) : 0.9156213613792232\n",
      "**************************************************************************************************\n"
     ]
    }
   ],
   "source": [
    "print(\"Accuracy Scores for Linear Regression model on raw data\")\n",
    "raw_lr_rmse_train = mean_squared_error(raw_y_val, raw_y_pred_val_lr)\n",
    "raw_lr_rmse_test = mean_squared_error(raw_y_train, raw_y_pred_train_lr)\n",
    "raw_train_lr_r2s = r2_score(raw_y_train, raw_y_pred_train_lr)\n",
    "raw_val_lr_r2s = r2_score(raw_y_val, raw_y_pred_val_lr)\n",
    "print(\"Mean Squared Error :\", raw_lr_rmse_train)\n",
    "print(\"Mean Squared Error :\", raw_lr_rmse_train)\n",
    "print(\"R-squared Score (Train) :\", raw_train_lr_r2s)\n",
    "print(\"R-squared Score (Test) :\", raw_val_lr_r2s)\n",
    "print(\"**************\" * 7)"
   ]
  },
  {
   "cell_type": "code",
   "execution_count": 94,
   "id": "1f453c2a",
   "metadata": {
    "executionInfo": {
     "elapsed": 1,
     "status": "ok",
     "timestamp": 1745064853068,
     "user": {
      "displayName": "Arihant Jain",
      "userId": "00542987843204554606"
     },
     "user_tz": -330
    },
    "id": "1f453c2a"
   },
   "outputs": [],
   "source": [
    "# Lasso Regression (L1 Regularization)\n",
    "lasso_model_raw = Lasso()\n",
    "lasso_model_raw.fit(raw_x_train, raw_y_train)\n",
    "raw_y_pred_train_lar = lasso_model_raw.predict(raw_x_train)\n",
    "raw_y_pred_val_lar = lasso_model_raw.predict(raw_x_val)"
   ]
  },
  {
   "cell_type": "code",
   "execution_count": 96,
   "id": "d31cd1d7",
   "metadata": {
    "colab": {
     "base_uri": "https://localhost:8080/"
    },
    "executionInfo": {
     "elapsed": 9,
     "status": "ok",
     "timestamp": 1745064854410,
     "user": {
      "displayName": "Arihant Jain",
      "userId": "00542987843204554606"
     },
     "user_tz": -330
    },
    "id": "d31cd1d7",
    "outputId": "16b71fe3-6aa4-4cd1-b786-49ab4dd6f0c6"
   },
   "outputs": [
    {
     "name": "stdout",
     "output_type": "stream",
     "text": [
      "Accuracy Scores for Lasso Regression (L1 Regularization) model on raw data\n",
      "Mean Squared Error : 2.0076670518175126\n",
      "R-squared Score (Train) : 0.8901342886277591\n",
      "R-squared Score (Test) : 0.9141407522971794\n",
      "**************************************************************************************************\n"
     ]
    }
   ],
   "source": [
    "print(\"Accuracy Scores for Lasso Regression (L1 Regularization) model on raw data\")\n",
    "raw_lar_rmse = mean_squared_error(raw_y_val, raw_y_pred_val_lar)\n",
    "raw_train_lar_r2s = r2_score(raw_y_train, raw_y_pred_train_lar)\n",
    "raw_val_lar_r2s = r2_score(raw_y_val, raw_y_pred_val_lar)\n",
    "print(\"Mean Squared Error :\", raw_lar_rmse)\n",
    "print(\"R-squared Score (Train) :\", raw_train_lar_r2s)\n",
    "print(\"R-squared Score (Test) :\", raw_val_lar_r2s)\n",
    "print(\"**************\" * 7)"
   ]
  },
  {
   "cell_type": "code",
   "execution_count": 98,
   "id": "13484625",
   "metadata": {
    "executionInfo": {
     "elapsed": 2,
     "status": "ok",
     "timestamp": 1745064856752,
     "user": {
      "displayName": "Arihant Jain",
      "userId": "00542987843204554606"
     },
     "user_tz": -330
    },
    "id": "13484625"
   },
   "outputs": [],
   "source": [
    "# Ridge Regression (L2 Regularization)\n",
    "ridge_model_raw = Ridge()\n",
    "ridge_model_raw.fit(raw_x_train, raw_y_train)\n",
    "raw_y_pred_train_ridge = ridge_model_raw.predict(raw_x_train)\n",
    "raw_y_pred_val_ridge = ridge_model_raw.predict(raw_x_val)"
   ]
  },
  {
   "cell_type": "code",
   "execution_count": 100,
   "id": "2ce3ffbc",
   "metadata": {
    "colab": {
     "base_uri": "https://localhost:8080/"
    },
    "executionInfo": {
     "elapsed": 7,
     "status": "ok",
     "timestamp": 1745064857162,
     "user": {
      "displayName": "Arihant Jain",
      "userId": "00542987843204554606"
     },
     "user_tz": -330
    },
    "id": "2ce3ffbc",
    "outputId": "c0bec165-e40c-476b-895f-05e4fc211d21"
   },
   "outputs": [
    {
     "name": "stdout",
     "output_type": "stream",
     "text": [
      "Accuracy Scores for Ridge Regression (L2 Regularization) model on raw data\n",
      "Mean Squared Error : 1.9731360610267676\n",
      "R-squared Score (Train) : 0.890307557490011\n",
      "R-squared Score (Test) : 0.9156174936169328\n",
      "**************************************************************************************************\n"
     ]
    }
   ],
   "source": [
    "print(\"Accuracy Scores for Ridge Regression (L2 Regularization) model on raw data\")\n",
    "raw_ridge_rmse = mean_squared_error(raw_y_val, raw_y_pred_val_ridge)\n",
    "raw_train_ridge_r2s = r2_score(raw_y_train, raw_y_pred_train_ridge)\n",
    "raw_val_ridge_r2s = r2_score(raw_y_val, raw_y_pred_val_ridge)\n",
    "print(\"Mean Squared Error :\", raw_ridge_rmse)\n",
    "print(\"R-squared Score (Train) :\", raw_train_ridge_r2s)\n",
    "print(\"R-squared Score (Test) :\", raw_val_ridge_r2s)\n",
    "print(\"**************\" * 7)"
   ]
  },
  {
   "cell_type": "code",
   "execution_count": 102,
   "id": "f31c87a7",
   "metadata": {
    "executionInfo": {
     "elapsed": 419,
     "status": "ok",
     "timestamp": 1745064860446,
     "user": {
      "displayName": "Arihant Jain",
      "userId": "00542987843204554606"
     },
     "user_tz": -330
    },
    "id": "f31c87a7"
   },
   "outputs": [],
   "source": [
    "# Elastic Net Regression (L1 and L2 Regularizations)\n",
    "enet_model_raw = ElasticNet()\n",
    "enet_model_raw.fit(raw_x_train, raw_y_train)\n",
    "raw_y_pred_train_enet = enet_model_raw.predict(raw_x_train)\n",
    "raw_y_pred_val_enet = enet_model_raw.predict(raw_x_val)"
   ]
  },
  {
   "cell_type": "code",
   "execution_count": 104,
   "id": "4cffed81",
   "metadata": {
    "colab": {
     "base_uri": "https://localhost:8080/"
    },
    "executionInfo": {
     "elapsed": 5,
     "status": "ok",
     "timestamp": 1745064861389,
     "user": {
      "displayName": "Arihant Jain",
      "userId": "00542987843204554606"
     },
     "user_tz": -330
    },
    "id": "4cffed81",
    "outputId": "d6bb9406-d0f7-4935-daa1-75e7829fb5c0"
   },
   "outputs": [
    {
     "name": "stdout",
     "output_type": "stream",
     "text": [
      "Accuracy Scores for Elastic Net Regression (L1 and L2 Regularizations) model on raw data\n",
      "Mean Squared Error : 1.9963873026756207\n",
      "R-squared Score (Train) : 0.8902510395505827\n",
      "R-squared Score (Test) : 0.9146231384451826\n",
      "**************************************************************************************************\n"
     ]
    }
   ],
   "source": [
    "print(\"Accuracy Scores for Elastic Net Regression (L1 and L2 Regularizations) model on raw data\")\n",
    "raw_enet_rmse = mean_squared_error(raw_y_val, raw_y_pred_val_enet)\n",
    "raw_train_enet_r2s = r2_score(raw_y_train, raw_y_pred_train_enet)\n",
    "raw_val_enet_r2s = r2_score(raw_y_val, raw_y_pred_val_enet)\n",
    "print(\"Mean Squared Error :\", raw_enet_rmse)\n",
    "print(\"R-squared Score (Train) :\", raw_train_enet_r2s)\n",
    "print(\"R-squared Score (Test) :\", raw_val_enet_r2s)\n",
    "print(\"**************\" * 7)"
   ]
  },
  {
   "cell_type": "code",
   "execution_count": 106,
   "id": "551337c4",
   "metadata": {
    "executionInfo": {
     "elapsed": 401,
     "status": "ok",
     "timestamp": 1745064864118,
     "user": {
      "displayName": "Arihant Jain",
      "userId": "00542987843204554606"
     },
     "user_tz": -330
    },
    "id": "551337c4"
   },
   "outputs": [],
   "source": [
    "# Decission Tree regression - Choosing max depth as 6 after trying different values\n",
    "dtree_raw = DecisionTreeRegressor(max_depth = 6)\n",
    "dtree_raw.fit(raw_x_train, raw_y_train)\n",
    "raw_y_pred_train_dtree = dtree_raw.predict(raw_x_train)\n",
    "raw_y_pred_val_dtree = dtree_raw.predict(raw_x_val)"
   ]
  },
  {
   "cell_type": "code",
   "execution_count": 108,
   "id": "8e0f502a",
   "metadata": {
    "colab": {
     "base_uri": "https://localhost:8080/"
    },
    "executionInfo": {
     "elapsed": 5,
     "status": "ok",
     "timestamp": 1745064865145,
     "user": {
      "displayName": "Arihant Jain",
      "userId": "00542987843204554606"
     },
     "user_tz": -330
    },
    "id": "8e0f502a",
    "outputId": "eabd343a-686c-41b2-c648-0ea35adba499"
   },
   "outputs": [
    {
     "name": "stdout",
     "output_type": "stream",
     "text": [
      "Accuracy Scores for Decision Tree model on raw data\n",
      "Mean Squared Error : 1.1399207057823129\n",
      "R-squared Score (Train) : 0.9947703451169537\n",
      "R-squared Score (Test) : 0.951250515292994\n",
      "**************************************************************************************************\n"
     ]
    }
   ],
   "source": [
    "print(\"Accuracy Scores for Decision Tree model on raw data\")\n",
    "raw_dtree_rmse = mean_squared_error(raw_y_val, raw_y_pred_val_dtree)\n",
    "raw_train_dtree_r2s = r2_score(raw_y_train, raw_y_pred_train_dtree)\n",
    "raw_val_dtree_r2s = r2_score(raw_y_val, raw_y_pred_val_dtree)\n",
    "print(\"Mean Squared Error :\", raw_dtree_rmse)\n",
    "print(\"R-squared Score (Train) :\", raw_train_dtree_r2s)\n",
    "print(\"R-squared Score (Test) :\", raw_val_dtree_r2s)\n",
    "print(\"**************\" * 7)"
   ]
  },
  {
   "cell_type": "code",
   "execution_count": 110,
   "id": "703216cc",
   "metadata": {
    "executionInfo": {
     "elapsed": 989,
     "status": "ok",
     "timestamp": 1745064868317,
     "user": {
      "displayName": "Arihant Jain",
      "userId": "00542987843204554606"
     },
     "user_tz": -330
    },
    "id": "703216cc"
   },
   "outputs": [],
   "source": [
    "# Random Forest regression - Choosing max depth as 6 after trying different values\n",
    "# Choosing the parameters after trying different values\n",
    "rf_raw = RandomForestRegressor(n_estimators = 500, random_state = 1, max_depth = 6)\n",
    "rf_raw.fit(raw_x_train, raw_y_train)\n",
    "raw_y_pred_train_rf = rf_raw.predict(raw_x_train)\n",
    "raw_y_pred_val_rf = rf_raw.predict(raw_x_val)"
   ]
  },
  {
   "cell_type": "code",
   "execution_count": 111,
   "id": "18330fb2",
   "metadata": {
    "colab": {
     "base_uri": "https://localhost:8080/"
    },
    "executionInfo": {
     "elapsed": 6,
     "status": "ok",
     "timestamp": 1745064868318,
     "user": {
      "displayName": "Arihant Jain",
      "userId": "00542987843204554606"
     },
     "user_tz": -330
    },
    "id": "18330fb2",
    "outputId": "98fdcdfe-f0c6-403a-d440-e95ced1b5651"
   },
   "outputs": [
    {
     "name": "stdout",
     "output_type": "stream",
     "text": [
      "Accuracy Scores for Random Forest model on raw data\n",
      "Mean Squared Error : 0.40992725337108105\n",
      "R-squared Score (Train) : 0.9954418189405353\n",
      "R-squared Score (Test) : 0.9824691820511463\n",
      "**************************************************************************************************\n"
     ]
    }
   ],
   "source": [
    "print(\"Accuracy Scores for Random Forest model on raw data\")\n",
    "raw_rf_rmse = mean_squared_error(raw_y_val, raw_y_pred_val_rf)\n",
    "raw_train_rf_r2s = r2_score(raw_y_train, raw_y_pred_train_rf)\n",
    "raw_val_rf_r2s = r2_score(raw_y_val, raw_y_pred_val_rf)\n",
    "print(\"Mean Squared Error :\", raw_rf_rmse)\n",
    "print(\"R-squared Score (Train) :\", raw_train_rf_r2s)\n",
    "print(\"R-squared Score (Test) :\", raw_val_rf_r2s)\n",
    "print(\"**************\" * 7)"
   ]
  },
  {
   "cell_type": "code",
   "execution_count": 112,
   "id": "7b27a0fb",
   "metadata": {
    "id": "7b27a0fb"
   },
   "outputs": [],
   "source": [
    "# Gradient Boosting Regression model\n",
    "gb_raw = GradientBoostingRegressor(n_estimators = 100, max_depth = 3, random_state = 123)\n",
    "gb_raw.fit(raw_x_train, raw_y_train)\n",
    "raw_y_pred_train_gb = gb_raw.predict(raw_x_train)\n",
    "raw_y_pred_val_gb = gb_raw.predict(raw_x_val)"
   ]
  },
  {
   "cell_type": "code",
   "execution_count": 113,
   "id": "f8ef5f6b",
   "metadata": {
    "colab": {
     "base_uri": "https://localhost:8080/"
    },
    "executionInfo": {
     "elapsed": 564,
     "status": "ok",
     "timestamp": 1729573975232,
     "user": {
      "displayName": "Arihant Jain",
      "userId": "00542987843204554606"
     },
     "user_tz": -330
    },
    "id": "f8ef5f6b",
    "outputId": "f0896d4c-0d87-4b21-939b-9792ed90140b"
   },
   "outputs": [
    {
     "name": "stdout",
     "output_type": "stream",
     "text": [
      "Accuracy Scores for Gradient Boost Regressor model on raw data\n",
      "Mean Squared Error : 0.39330203215430165\n",
      "R-squared Score (Train) : 0.9988744334979055\n",
      "R-squared Score (Test) : 0.9831801709500643\n",
      "**************************************************************************************************\n"
     ]
    }
   ],
   "source": [
    "print(\"Accuracy Scores for Gradient Boost Regressor model on raw data\")\n",
    "raw_gb_rmse = mean_squared_error(raw_y_val, raw_y_pred_val_gb)\n",
    "raw_train_gb_r2s = r2_score(raw_y_train, raw_y_pred_train_gb)\n",
    "raw_val_gb_r2s = r2_score(raw_y_val, raw_y_pred_val_gb)\n",
    "print(\"Mean Squared Error :\", raw_gb_rmse)\n",
    "print(\"R-squared Score (Train) :\", raw_train_gb_r2s)\n",
    "print(\"R-squared Score (Test) :\", raw_val_gb_r2s)\n",
    "print(\"**************\" * 7)"
   ]
  },
  {
   "cell_type": "code",
   "execution_count": 118,
   "id": "a580fc95",
   "metadata": {
    "id": "a580fc95"
   },
   "outputs": [],
   "source": [
    "# XGBoost Regression model - Max depth = 2 after testing various values\n",
    "xgb_raw = xgb.XGBRegressor(random_state = 111, max_depth = 2)\n",
    "xgb_raw.fit(raw_x_train, raw_y_train)\n",
    "raw_y_pred_train_xgb = xgb_raw.predict(raw_x_train)\n",
    "raw_y_pred_val_xgb = xgb_raw.predict(raw_x_val)"
   ]
  },
  {
   "cell_type": "code",
   "execution_count": 120,
   "id": "0e7acdd4",
   "metadata": {
    "colab": {
     "base_uri": "https://localhost:8080/"
    },
    "executionInfo": {
     "elapsed": 19,
     "status": "ok",
     "timestamp": 1729573976286,
     "user": {
      "displayName": "Arihant Jain",
      "userId": "00542987843204554606"
     },
     "user_tz": -330
    },
    "id": "0e7acdd4",
    "outputId": "f063be1a-3b60-430f-f2b2-11dc88a7b487"
   },
   "outputs": [
    {
     "name": "stdout",
     "output_type": "stream",
     "text": [
      "Accuracy Scores for XGBoost model on raw data\n",
      "Mean Squared Error : 0.4531219081746326\n",
      "R-squared Score (Train) : 0.9973801988256545\n",
      "R-squared Score (Test) : 0.9806219332441997\n",
      "**************************************************************************************************\n"
     ]
    }
   ],
   "source": [
    "print(\"Accuracy Scores for XGBoost model on raw data\")\n",
    "raw_xgb_rmse = mean_squared_error(raw_y_val, raw_y_pred_val_xgb)\n",
    "raw_train_xgb_r2s = r2_score(raw_y_train, raw_y_pred_train_xgb)\n",
    "raw_val_xgb_r2s = r2_score(raw_y_val, raw_y_pred_val_xgb)\n",
    "print(\"Mean Squared Error :\", raw_xgb_rmse)\n",
    "print(\"R-squared Score (Train) :\", raw_train_xgb_r2s)\n",
    "print(\"R-squared Score (Test) :\", raw_val_xgb_r2s)\n",
    "print(\"**************\" * 7)"
   ]
  },
  {
   "cell_type": "code",
   "execution_count": 122,
   "id": "221160aa",
   "metadata": {
    "id": "221160aa"
   },
   "outputs": [],
   "source": [
    "# Support Vector Regression model - Linear kernel\n",
    "svr_linear_raw = SVR(kernel = 'linear')\n",
    "svr_linear_raw.fit(raw_x_train, raw_y_train)\n",
    "raw_y_pred_train_svr_linear = svr_linear_raw.predict(raw_x_train)\n",
    "raw_y_pred_val_svr_linear = svr_linear_raw.predict(raw_x_val)"
   ]
  },
  {
   "cell_type": "code",
   "execution_count": 123,
   "id": "5fab039d",
   "metadata": {
    "colab": {
     "base_uri": "https://localhost:8080/"
    },
    "executionInfo": {
     "elapsed": 17,
     "status": "ok",
     "timestamp": 1729573978246,
     "user": {
      "displayName": "Arihant Jain",
      "userId": "00542987843204554606"
     },
     "user_tz": -330
    },
    "id": "5fab039d",
    "outputId": "eef62a25-f7ac-4b97-81d8-0659e12df8c5"
   },
   "outputs": [
    {
     "name": "stdout",
     "output_type": "stream",
     "text": [
      "Accuracy Scores for Support Vector Model with linear kernel on raw data\n",
      "Root Mean Squared Error : 1.9220583190995177\n",
      "R-squared Score (Train) : 0.881634835018431\n",
      "R-squared Score (Test) : 0.9178018680092217\n",
      "**************************************************************************************************\n"
     ]
    }
   ],
   "source": [
    "print(\"Accuracy Scores for Support Vector Model with linear kernel on raw data\")\n",
    "raw_svr_linear_rmse = mean_squared_error(raw_y_val, raw_y_pred_val_svr_linear)\n",
    "raw_train_svr_linear_r2s = r2_score(raw_y_train, raw_y_pred_train_svr_linear)\n",
    "raw_val_svr_linear_r2s = r2_score(raw_y_val, raw_y_pred_val_svr_linear)\n",
    "print(\"Root Mean Squared Error :\", raw_svr_linear_rmse)\n",
    "print(\"R-squared Score (Train) :\", raw_train_svr_linear_r2s)\n",
    "print(\"R-squared Score (Test) :\", raw_val_svr_linear_r2s)\n",
    "print(\"**************\" * 7)"
   ]
  },
  {
   "cell_type": "code",
   "execution_count": 124,
   "id": "17b94872",
   "metadata": {
    "id": "17b94872"
   },
   "outputs": [],
   "source": [
    "# Support Vector Regression model - Poly kernel\n",
    "svr_poly_raw = SVR(kernel = 'poly')\n",
    "svr_poly_raw.fit(raw_x_train, raw_y_train)\n",
    "raw_y_pred_train_svr_poly = svr_poly_raw.predict(raw_x_train)\n",
    "raw_y_pred_val_svr_poly = svr_poly_raw.predict(raw_x_val)"
   ]
  },
  {
   "cell_type": "code",
   "execution_count": 125,
   "id": "7a0f9d36",
   "metadata": {
    "colab": {
     "base_uri": "https://localhost:8080/"
    },
    "executionInfo": {
     "elapsed": 15,
     "status": "ok",
     "timestamp": 1729573978246,
     "user": {
      "displayName": "Arihant Jain",
      "userId": "00542987843204554606"
     },
     "user_tz": -330
    },
    "id": "7a0f9d36",
    "outputId": "990e67ba-1f3e-451c-96bc-282d272a4b8a"
   },
   "outputs": [
    {
     "name": "stdout",
     "output_type": "stream",
     "text": [
      "Accuracy Scores for Support Vector Model with poly kernel on raw data\n",
      "Root Mean Squared Error : 3.087389548470164\n",
      "R-squared Score (Train) : 0.8462785174762764\n",
      "R-squared Score (Test) : 0.8679656849689169\n",
      "**************************************************************************************************\n"
     ]
    }
   ],
   "source": [
    "print(\"Accuracy Scores for Support Vector Model with poly kernel on raw data\")\n",
    "raw_svr_poly_rmse = mean_squared_error(raw_y_val, raw_y_pred_val_svr_poly)\n",
    "raw_train_svr_poly_r2s = r2_score(raw_y_train, raw_y_pred_train_svr_poly)\n",
    "raw_val_svr_poly_r2s = r2_score(raw_y_val, raw_y_pred_val_svr_poly)\n",
    "print(\"Root Mean Squared Error :\", raw_svr_poly_rmse)\n",
    "print(\"R-squared Score (Train) :\", raw_train_svr_poly_r2s)\n",
    "print(\"R-squared Score (Test) :\", raw_val_svr_poly_r2s)\n",
    "print(\"**************\" * 7)"
   ]
  },
  {
   "cell_type": "code",
   "execution_count": 128,
   "id": "9d3dbaef",
   "metadata": {
    "id": "9d3dbaef"
   },
   "outputs": [],
   "source": [
    "# Support Vector Regression model - RBF kernel\n",
    "svr_rbf_raw = SVR(kernel = 'rbf')\n",
    "svr_rbf_raw.fit(raw_x_train, raw_y_train)\n",
    "raw_y_pred_train_svr_rbf = svr_rbf_raw.predict(raw_x_train)\n",
    "raw_y_pred_val_svr_rbf = svr_rbf_raw.predict(raw_x_val)"
   ]
  },
  {
   "cell_type": "code",
   "execution_count": 132,
   "id": "94d6c471",
   "metadata": {
    "colab": {
     "base_uri": "https://localhost:8080/"
    },
    "executionInfo": {
     "elapsed": 12,
     "status": "ok",
     "timestamp": 1729573978246,
     "user": {
      "displayName": "Arihant Jain",
      "userId": "00542987843204554606"
     },
     "user_tz": -330
    },
    "id": "94d6c471",
    "outputId": "4d7a7dc6-6454-4833-a4d0-2786e3190b24"
   },
   "outputs": [
    {
     "name": "stdout",
     "output_type": "stream",
     "text": [
      "Accuracy Scores for Support Vector Model with rbf kernel on raw data\n",
      "Root Mean Squared Error : 3.8480442325973847\n",
      "R-squared Score (Train) : 0.8541218680671167\n",
      "R-squared Score (Test) : 0.8354357697712419\n",
      "**************************************************************************************************\n"
     ]
    }
   ],
   "source": [
    "print(\"Accuracy Scores for Support Vector Model with rbf kernel on raw data\")\n",
    "raw_svr_rbf_rmse = mean_squared_error(raw_y_val, raw_y_pred_val_svr_rbf)\n",
    "raw_train_svr_rbf_r2s = r2_score(raw_y_train, raw_y_pred_train_svr_rbf)\n",
    "raw_val_svr_rbf_r2s = r2_score(raw_y_val, raw_y_pred_val_svr_rbf)\n",
    "print(\"Root Mean Squared Error :\", raw_svr_rbf_rmse)\n",
    "print(\"R-squared Score (Train) :\", raw_train_svr_rbf_r2s)\n",
    "print(\"R-squared Score (Test) :\", raw_val_svr_rbf_r2s)\n",
    "print(\"**************\" * 7)"
   ]
  },
  {
   "cell_type": "code",
   "execution_count": 134,
   "id": "412a02e6",
   "metadata": {
    "id": "412a02e6"
   },
   "outputs": [],
   "source": [
    "# Function to find the best value of K based on mean squared error\n",
    "\n",
    "def find_k(x_train, y_train, x_test, y_test):\n",
    "    error_rate = []    # Finding the error rate for 50 iterations\n",
    "\n",
    "    for i in range(1, 50):\n",
    "        knn = KNeighborsRegressor(n_neighbors = i)    # Building the model with i neighbors\n",
    "        knn.fit(x_train, y_train)\n",
    "        y_pred = knn.predict(x_test)\n",
    "        error_rate.append(mean_squared_error(y_test, y_pred))\n",
    "\n",
    "# Ploting the error values to find the best value of k\n",
    "\n",
    "    plt.figure(figsize = (8, 8))\n",
    "    plt.plot(range(1,50), error_rate, color = 'red', linestyle = 'dashed', marker = 'o', markersize = 10, markerfacecolor = 'blue')\n",
    "    plt.title(\"Mean Squared Error vs K-Value\")\n",
    "    plt.xlabel(\"K-Value\")\n",
    "    plt.ylabel(\"Mean Squared Error\")\n",
    "    plt.show()"
   ]
  },
  {
   "cell_type": "code",
   "execution_count": 136,
   "id": "244bd432",
   "metadata": {
    "colab": {
     "base_uri": "https://localhost:8080/",
     "height": 727
    },
    "executionInfo": {
     "elapsed": 1818,
     "status": "ok",
     "timestamp": 1729573980056,
     "user": {
      "displayName": "Arihant Jain",
      "userId": "00542987843204554606"
     },
     "user_tz": -330
    },
    "id": "244bd432",
    "outputId": "d9836c5b-ac39-432c-f444-fe6ed0b55aaa"
   },
   "outputs": [
    {
     "data": {
      "image/png": "[encoded data removed]",
      "text/plain": [
       "<Figure size 800x800 with 1 Axes>"
      ]
     },
     "metadata": {},
     "output_type": "display_data"
    }
   ],
   "source": [
    "find_k(raw_x_train, raw_y_train, raw_x_val, raw_y_val)"
   ]
  },
  {
   "cell_type": "markdown",
   "id": "086a3498",
   "metadata": {
    "id": "086a3498"
   },
   "source": [
    "The error value is least in k = 2, proceeding with k = 2"
   ]
  },
  {
   "cell_type": "code",
   "execution_count": 138,
   "id": "d3e66563",
   "metadata": {
    "colab": {
     "base_uri": "https://localhost:8080/"
    },
    "executionInfo": {
     "elapsed": 10,
     "status": "ok",
     "timestamp": 1729573980056,
     "user": {
      "displayName": "Arihant Jain",
      "userId": "00542987843204554606"
     },
     "user_tz": -330
    },
    "id": "d3e66563",
    "outputId": "c4608018-2df4-4096-fa7b-1a4949f9d835"
   },
   "outputs": [
    {
     "name": "stdout",
     "output_type": "stream",
     "text": [
      "Accuracy Scores for KNN Regressor model on raw data\n",
      "Mean Squared Error : 1.5839000000000005\n",
      "R-squared Score (Train) : 0.9758064493202534\n",
      "R-squared Score (Test) : 0.9322634386446769\n",
      "**************************************************************************************************\n"
     ]
    }
   ],
   "source": [
    "# Building KNN regressor with k = 2\n",
    "knn_raw = KNeighborsRegressor(n_neighbors = 2)\n",
    "knn_raw.fit(raw_x_train, raw_y_train)\n",
    "raw_y_pred_train_knn = knn_raw.predict(raw_x_train)\n",
    "raw_y_pred_val_knn = knn_raw.predict(raw_x_val)\n",
    "\n",
    "print(\"Accuracy Scores for KNN Regressor model on raw data\")\n",
    "raw_knn_rmse = mean_squared_error(raw_y_val, raw_y_pred_val_knn)\n",
    "raw_train_knn_r2s = r2_score(raw_y_train, raw_y_pred_train_knn)\n",
    "raw_val_knn_r2s = r2_score(raw_y_val, raw_y_pred_val_knn)\n",
    "print(\"Mean Squared Error :\", raw_knn_rmse)\n",
    "print(\"R-squared Score (Train) :\", raw_train_knn_r2s)\n",
    "print(\"R-squared Score (Test) :\", raw_val_knn_r2s)\n",
    "print(\"**************\" * 7)"
   ]
  },
  {
   "cell_type": "markdown",
   "id": "7e42ad7e",
   "metadata": {
    "id": "7e42ad7e"
   },
   "source": [
    "Considering the results, the Random Forest model appears to be the best among the three."
   ]
  },
  {
   "cell_type": "code",
   "execution_count": 142,
   "id": "cw-kIRQv-fQF",
   "metadata": {
    "colab": {
     "base_uri": "https://localhost:8080/",
     "height": 80
    },
    "executionInfo": {
     "elapsed": 14,
     "status": "ok",
     "timestamp": 1745064952505,
     "user": {
      "displayName": "Arihant Jain",
      "userId": "00542987843204554606"
     },
     "user_tz": -330
    },
    "id": "cw-kIRQv-fQF",
    "outputId": "3a88ca41-8f8b-4d62-bd7b-c7675ac2ca12"
   },
   "outputs": [
    {
     "data": {
      "text/html": [
       "<style>#sk-container-id-1 {\n",
       "  /* Definition of color scheme common for light and dark mode */\n",
       "  --sklearn-color-text: black;\n",
       "  --sklearn-color-line: gray;\n",
       "  /* Definition of color scheme for unfitted estimators */\n",
       "  --sklearn-color-unfitted-level-0: #fff5e6;\n",
       "  --sklearn-color-unfitted-level-1: #f6e4d2;\n",
       "  --sklearn-color-unfitted-level-2: #ffe0b3;\n",
       "  --sklearn-color-unfitted-level-3: chocolate;\n",
       "  /* Definition of color scheme for fitted estimators */\n",
       "  --sklearn-color-fitted-level-0: #f0f8ff;\n",
       "  --sklearn-color-fitted-level-1: #d4ebff;\n",
       "  --sklearn-color-fitted-level-2: #b3dbfd;\n",
       "  --sklearn-color-fitted-level-3: cornflowerblue;\n",
       "\n",
       "  /* Specific color for light theme */\n",
       "  --sklearn-color-text-on-default-background: var(--sg-text-color, var(--theme-code-foreground, var(--jp-content-font-color1, black)));\n",
       "  --sklearn-color-background: var(--sg-background-color, var(--theme-background, var(--jp-layout-color0, white)));\n",
       "  --sklearn-color-border-box: var(--sg-text-color, var(--theme-code-foreground, var(--jp-content-font-color1, black)));\n",
       "  --sklearn-color-icon: #696969;\n",
       "\n",
       "  @media (prefers-color-scheme: dark) {\n",
       "    /* Redefinition of color scheme for dark theme */\n",
       "    --sklearn-color-text-on-default-background: var(--sg-text-color, var(--theme-code-foreground, var(--jp-content-font-color1, white)));\n",
       "    --sklearn-color-background: var(--sg-background-color, var(--theme-background, var(--jp-layout-color0, #111)));\n",
       "    --sklearn-color-border-box: var(--sg-text-color, var(--theme-code-foreground, var(--jp-content-font-color1, white)));\n",
       "    --sklearn-color-icon: #878787;\n",
       "  }\n",
       "}\n",
       "\n",
       "#sk-container-id-1 {\n",
       "  color: var(--sklearn-color-text);\n",
       "}\n",
       "\n",
       "#sk-container-id-1 pre {\n",
       "  padding: 0;\n",
       "}\n",
       "\n",
       "#sk-container-id-1 input.sk-hidden--visually {\n",
       "  border: 0;\n",
       "  clip: rect(1px 1px 1px 1px);\n",
       "  clip: rect(1px, 1px, 1px, 1px);\n",
       "  height: 1px;\n",
       "  margin: -1px;\n",
       "  overflow: hidden;\n",
       "  padding: 0;\n",
       "  position: absolute;\n",
       "  width: 1px;\n",
       "}\n",
       "\n",
       "#sk-container-id-1 div.sk-dashed-wrapped {\n",
       "  border: 1px dashed var(--sklearn-color-line);\n",
       "  margin: 0 0.4em 0.5em 0.4em;\n",
       "  box-sizing: border-box;\n",
       "  padding-bottom: 0.4em;\n",
       "  background-color: var(--sklearn-color-background);\n",
       "}\n",
       "\n",
       "#sk-container-id-1 div.sk-container {\n",
       "  /* jupyter's `normalize.less` sets `[hidden] { display: none; }`\n",
       "     but bootstrap.min.css set `[hidden] { display: none !important; }`\n",
       "     so we also need the `!important` here to be able to override the\n",
       "     default hidden behavior on the sphinx rendered scikit-learn.org.\n",
       "     See: https://github.com/scikit-learn/scikit-learn/issues/21755 */\n",
       "  display: inline-block !important;\n",
       "  position: relative;\n",
       "}\n",
       "\n",
       "#sk-container-id-1 div.sk-text-repr-fallback {\n",
       "  display: none;\n",
       "}\n",
       "\n",
       "div.sk-parallel-item,\n",
       "div.sk-serial,\n",
       "div.sk-item {\n",
       "  /* draw centered vertical line to link estimators */\n",
       "  background-image: linear-gradient(var(--sklearn-color-text-on-default-background), var(--sklearn-color-text-on-default-background));\n",
       "  background-size: 2px 100%;\n",
       "  background-repeat: no-repeat;\n",
       "  background-position: center center;\n",
       "}\n",
       "\n",
       "/* Parallel-specific style estimator block */\n",
       "\n",
       "#sk-container-id-1 div.sk-parallel-item::after {\n",
       "  content: \"\";\n",
       "  width: 100%;\n",
       "  border-bottom: 2px solid var(--sklearn-color-text-on-default-background);\n",
       "  flex-grow: 1;\n",
       "}\n",
       "\n",
       "#sk-container-id-1 div.sk-parallel {\n",
       "  display: flex;\n",
       "  align-items: stretch;\n",
       "  justify-content: center;\n",
       "  background-color: var(--sklearn-color-background);\n",
       "  position: relative;\n",
       "}\n",
       "\n",
       "#sk-container-id-1 div.sk-parallel-item {\n",
       "  display: flex;\n",
       "  flex-direction: column;\n",
       "}\n",
       "\n",
       "#sk-container-id-1 div.sk-parallel-item:first-child::after {\n",
       "  align-self: flex-end;\n",
       "  width: 50%;\n",
       "}\n",
       "\n",
       "#sk-container-id-1 div.sk-parallel-item:last-child::after {\n",
       "  align-self: flex-start;\n",
       "  width: 50%;\n",
       "}\n",
       "\n",
       "#sk-container-id-1 div.sk-parallel-item:only-child::after {\n",
       "  width: 0;\n",
       "}\n",
       "\n",
       "/* Serial-specific style estimator block */\n",
       "\n",
       "#sk-container-id-1 div.sk-serial {\n",
       "  display: flex;\n",
       "  flex-direction: column;\n",
       "  align-items: center;\n",
       "  background-color: var(--sklearn-color-background);\n",
       "  padding-right: 1em;\n",
       "  padding-left: 1em;\n",
       "}\n",
       "\n",
       "\n",
       "/* Toggleable style: style used for estimator/Pipeline/ColumnTransformer box that is\n",
       "clickable and can be expanded/collapsed.\n",
       "- Pipeline and ColumnTransformer use this feature and define the default style\n",
       "- Estimators will overwrite some part of the style using the `sk-estimator` class\n",
       "*/\n",
       "\n",
       "/* Pipeline and ColumnTransformer style (default) */\n",
       "\n",
       "#sk-container-id-1 div.sk-toggleable {\n",
       "  /* Default theme specific background. It is overwritten whether we have a\n",
       "  specific estimator or a Pipeline/ColumnTransformer */\n",
       "  background-color: var(--sklearn-color-background);\n",
       "}\n",
       "\n",
       "/* Toggleable label */\n",
       "#sk-container-id-1 label.sk-toggleable__label {\n",
       "  cursor: pointer;\n",
       "  display: block;\n",
       "  width: 100%;\n",
       "  margin-bottom: 0;\n",
       "  padding: 0.5em;\n",
       "  box-sizing: border-box;\n",
       "  text-align: center;\n",
       "}\n",
       "\n",
       "#sk-container-id-1 label.sk-toggleable__label-arrow:before {\n",
       "  /* Arrow on the left of the label */\n",
       "  content: \"▸\";\n",
       "  float: left;\n",
       "  margin-right: 0.25em;\n",
       "  color: var(--sklearn-color-icon);\n",
       "}\n",
       "\n",
       "#sk-container-id-1 label.sk-toggleable__label-arrow:hover:before {\n",
       "  color: var(--sklearn-color-text);\n",
       "}\n",
       "\n",
       "/* Toggleable content - dropdown */\n",
       "\n",
       "#sk-container-id-1 div.sk-toggleable__content {\n",
       "  max-height: 0;\n",
       "  max-width: 0;\n",
       "  overflow: hidden;\n",
       "  text-align: left;\n",
       "  /* unfitted */\n",
       "  background-color: var(--sklearn-color-unfitted-level-0);\n",
       "}\n",
       "\n",
       "#sk-container-id-1 div.sk-toggleable__content.fitted {\n",
       "  /* fitted */\n",
       "  background-color: var(--sklearn-color-fitted-level-0);\n",
       "}\n",
       "\n",
       "#sk-container-id-1 div.sk-toggleable__content pre {\n",
       "  margin: 0.2em;\n",
       "  border-radius: 0.25em;\n",
       "  color: var(--sklearn-color-text);\n",
       "  /* unfitted */\n",
       "  background-color: var(--sklearn-color-unfitted-level-0);\n",
       "}\n",
       "\n",
       "#sk-container-id-1 div.sk-toggleable__content.fitted pre {\n",
       "  /* unfitted */\n",
       "  background-color: var(--sklearn-color-fitted-level-0);\n",
       "}\n",
       "\n",
       "#sk-container-id-1 input.sk-toggleable__control:checked~div.sk-toggleable__content {\n",
       "  /* Expand drop-down */\n",
       "  max-height: 200px;\n",
       "  max-width: 100%;\n",
       "  overflow: auto;\n",
       "}\n",
       "\n",
       "#sk-container-id-1 input.sk-toggleable__control:checked~label.sk-toggleable__label-arrow:before {\n",
       "  content: \"▾\";\n",
       "}\n",
       "\n",
       "/* Pipeline/ColumnTransformer-specific style */\n",
       "\n",
       "#sk-container-id-1 div.sk-label input.sk-toggleable__control:checked~label.sk-toggleable__label {\n",
       "  color: var(--sklearn-color-text);\n",
       "  background-color: var(--sklearn-color-unfitted-level-2);\n",
       "}\n",
       "\n",
       "#sk-container-id-1 div.sk-label.fitted input.sk-toggleable__control:checked~label.sk-toggleable__label {\n",
       "  background-color: var(--sklearn-color-fitted-level-2);\n",
       "}\n",
       "\n",
       "/* Estimator-specific style */\n",
       "\n",
       "/* Colorize estimator box */\n",
       "#sk-container-id-1 div.sk-estimator input.sk-toggleable__control:checked~label.sk-toggleable__label {\n",
       "  /* unfitted */\n",
       "  background-color: var(--sklearn-color-unfitted-level-2);\n",
       "}\n",
       "\n",
       "#sk-container-id-1 div.sk-estimator.fitted input.sk-toggleable__control:checked~label.sk-toggleable__label {\n",
       "  /* fitted */\n",
       "  background-color: var(--sklearn-color-fitted-level-2);\n",
       "}\n",
       "\n",
       "#sk-container-id-1 div.sk-label label.sk-toggleable__label,\n",
       "#sk-container-id-1 div.sk-label label {\n",
       "  /* The background is the default theme color */\n",
       "  color: var(--sklearn-color-text-on-default-background);\n",
       "}\n",
       "\n",
       "/* On hover, darken the color of the background */\n",
       "#sk-container-id-1 div.sk-label:hover label.sk-toggleable__label {\n",
       "  color: var(--sklearn-color-text);\n",
       "  background-color: var(--sklearn-color-unfitted-level-2);\n",
       "}\n",
       "\n",
       "/* Label box, darken color on hover, fitted */\n",
       "#sk-container-id-1 div.sk-label.fitted:hover label.sk-toggleable__label.fitted {\n",
       "  color: var(--sklearn-color-text);\n",
       "  background-color: var(--sklearn-color-fitted-level-2);\n",
       "}\n",
       "\n",
       "/* Estimator label */\n",
       "\n",
       "#sk-container-id-1 div.sk-label label {\n",
       "  font-family: monospace;\n",
       "  font-weight: bold;\n",
       "  display: inline-block;\n",
       "  line-height: 1.2em;\n",
       "}\n",
       "\n",
       "#sk-container-id-1 div.sk-label-container {\n",
       "  text-align: center;\n",
       "}\n",
       "\n",
       "/* Estimator-specific */\n",
       "#sk-container-id-1 div.sk-estimator {\n",
       "  font-family: monospace;\n",
       "  border: 1px dotted var(--sklearn-color-border-box);\n",
       "  border-radius: 0.25em;\n",
       "  box-sizing: border-box;\n",
       "  margin-bottom: 0.5em;\n",
       "  /* unfitted */\n",
       "  background-color: var(--sklearn-color-unfitted-level-0);\n",
       "}\n",
       "\n",
       "#sk-container-id-1 div.sk-estimator.fitted {\n",
       "  /* fitted */\n",
       "  background-color: var(--sklearn-color-fitted-level-0);\n",
       "}\n",
       "\n",
       "/* on hover */\n",
       "#sk-container-id-1 div.sk-estimator:hover {\n",
       "  /* unfitted */\n",
       "  background-color: var(--sklearn-color-unfitted-level-2);\n",
       "}\n",
       "\n",
       "#sk-container-id-1 div.sk-estimator.fitted:hover {\n",
       "  /* fitted */\n",
       "  background-color: var(--sklearn-color-fitted-level-2);\n",
       "}\n",
       "\n",
       "/* Specification for estimator info (e.g. \"i\" and \"?\") */\n",
       "\n",
       "/* Common style for \"i\" and \"?\" */\n",
       "\n",
       ".sk-estimator-doc-link,\n",
       "a:link.sk-estimator-doc-link,\n",
       "a:visited.sk-estimator-doc-link {\n",
       "  float: right;\n",
       "  font-size: smaller;\n",
       "  line-height: 1em;\n",
       "  font-family: monospace;\n",
       "  background-color: var(--sklearn-color-background);\n",
       "  border-radius: 1em;\n",
       "  height: 1em;\n",
       "  width: 1em;\n",
       "  text-decoration: none !important;\n",
       "  margin-left: 1ex;\n",
       "  /* unfitted */\n",
       "  border: var(--sklearn-color-unfitted-level-1) 1pt solid;\n",
       "  color: var(--sklearn-color-unfitted-level-1);\n",
       "}\n",
       "\n",
       ".sk-estimator-doc-link.fitted,\n",
       "a:link.sk-estimator-doc-link.fitted,\n",
       "a:visited.sk-estimator-doc-link.fitted {\n",
       "  /* fitted */\n",
       "  border: var(--sklearn-color-fitted-level-1) 1pt solid;\n",
       "  color: var(--sklearn-color-fitted-level-1);\n",
       "}\n",
       "\n",
       "/* On hover */\n",
       "div.sk-estimator:hover .sk-estimator-doc-link:hover,\n",
       ".sk-estimator-doc-link:hover,\n",
       "div.sk-label-container:hover .sk-estimator-doc-link:hover,\n",
       ".sk-estimator-doc-link:hover {\n",
       "  /* unfitted */\n",
       "  background-color: var(--sklearn-color-unfitted-level-3);\n",
       "  color: var(--sklearn-color-background);\n",
       "  text-decoration: none;\n",
       "}\n",
       "\n",
       "div.sk-estimator.fitted:hover .sk-estimator-doc-link.fitted:hover,\n",
       ".sk-estimator-doc-link.fitted:hover,\n",
       "div.sk-label-container:hover .sk-estimator-doc-link.fitted:hover,\n",
       ".sk-estimator-doc-link.fitted:hover {\n",
       "  /* fitted */\n",
       "  background-color: var(--sklearn-color-fitted-level-3);\n",
       "  color: var(--sklearn-color-background);\n",
       "  text-decoration: none;\n",
       "}\n",
       "\n",
       "/* Span, style for the box shown on hovering the info icon */\n",
       ".sk-estimator-doc-link span {\n",
       "  display: none;\n",
       "  z-index: 9999;\n",
       "  position: relative;\n",
       "  font-weight: normal;\n",
       "  right: .2ex;\n",
       "  padding: .5ex;\n",
       "  margin: .5ex;\n",
       "  width: min-content;\n",
       "  min-width: 20ex;\n",
       "  max-width: 50ex;\n",
       "  color: var(--sklearn-color-text);\n",
       "  box-shadow: 2pt 2pt 4pt #999;\n",
       "  /* unfitted */\n",
       "  background: var(--sklearn-color-unfitted-level-0);\n",
       "  border: .5pt solid var(--sklearn-color-unfitted-level-3);\n",
       "}\n",
       "\n",
       ".sk-estimator-doc-link.fitted span {\n",
       "  /* fitted */\n",
       "  background: var(--sklearn-color-fitted-level-0);\n",
       "  border: var(--sklearn-color-fitted-level-3);\n",
       "}\n",
       "\n",
       ".sk-estimator-doc-link:hover span {\n",
       "  display: block;\n",
       "}\n",
       "\n",
       "/* \"?\"-specific style due to the `<a>` HTML tag */\n",
       "\n",
       "#sk-container-id-1 a.estimator_doc_link {\n",
       "  float: right;\n",
       "  font-size: 1rem;\n",
       "  line-height: 1em;\n",
       "  font-family: monospace;\n",
       "  background-color: var(--sklearn-color-background);\n",
       "  border-radius: 1rem;\n",
       "  height: 1rem;\n",
       "  width: 1rem;\n",
       "  text-decoration: none;\n",
       "  /* unfitted */\n",
       "  color: var(--sklearn-color-unfitted-level-1);\n",
       "  border: var(--sklearn-color-unfitted-level-1) 1pt solid;\n",
       "}\n",
       "\n",
       "#sk-container-id-1 a.estimator_doc_link.fitted {\n",
       "  /* fitted */\n",
       "  border: var(--sklearn-color-fitted-level-1) 1pt solid;\n",
       "  color: var(--sklearn-color-fitted-level-1);\n",
       "}\n",
       "\n",
       "/* On hover */\n",
       "#sk-container-id-1 a.estimator_doc_link:hover {\n",
       "  /* unfitted */\n",
       "  background-color: var(--sklearn-color-unfitted-level-3);\n",
       "  color: var(--sklearn-color-background);\n",
       "  text-decoration: none;\n",
       "}\n",
       "\n",
       "#sk-container-id-1 a.estimator_doc_link.fitted:hover {\n",
       "  /* fitted */\n",
       "  background-color: var(--sklearn-color-fitted-level-3);\n",
       "}\n",
       "</style><div id=\"sk-container-id-1\" class=\"sk-top-container\"><div class=\"sk-text-repr-fallback\"><pre>RandomForestRegressor(max_depth=6, n_estimators=500, random_state=1)</pre><b>In a Jupyter environment, please rerun this cell to show the HTML representation or trust the notebook. <br />On GitHub, the HTML representation is unable to render, please try loading this page with nbviewer.org.</b></div><div class=\"sk-container\" hidden><div class=\"sk-item\"><div class=\"sk-estimator fitted sk-toggleable\"><input class=\"sk-toggleable__control sk-hidden--visually\" id=\"sk-estimator-id-1\" type=\"checkbox\" checked><label for=\"sk-estimator-id-1\" class=\"sk-toggleable__label fitted sk-toggleable__label-arrow fitted\">&nbsp;&nbsp;RandomForestRegressor<a class=\"sk-estimator-doc-link fitted\" rel=\"noreferrer\" target=\"_blank\" href=\"https://scikit-learn.org/1.5/modules/generated/sklearn.ensemble.RandomForestRegressor.html\">?<span>Documentation for RandomForestRegressor</span></a><span class=\"sk-estimator-doc-link fitted\">i<span>Fitted</span></span></label><div class=\"sk-toggleable__content fitted\"><pre>RandomForestRegressor(max_depth=6, n_estimators=500, random_state=1)</pre></div> </div></div></div></div>"
      ],
      "text/plain": [
       "RandomForestRegressor(max_depth=6, n_estimators=500, random_state=1)"
      ]
     },
     "execution_count": 142,
     "metadata": {},
     "output_type": "execute_result"
    }
   ],
   "source": [
    "rf_raw"
   ]
  },
  {
   "cell_type": "code",
   "execution_count": null,
   "id": "fASJhF1q-fNu",
   "metadata": {
    "id": "fASJhF1q-fNu"
   },
   "outputs": [],
   "source": []
  },
  {
   "cell_type": "code",
   "execution_count": 145,
   "id": "ee90477c",
   "metadata": {
    "executionInfo": {
     "elapsed": 663,
     "status": "ok",
     "timestamp": 1745064905677,
     "user": {
      "displayName": "Arihant Jain",
      "userId": "00542987843204554606"
     },
     "user_tz": -330
    },
    "id": "ee90477c"
   },
   "outputs": [],
   "source": [
    "# Saving model for deployment\n",
    "\n",
    "final_model = rf_raw\n",
    "filename = '04_Sales_Predictions.sav'\n",
    "pickle.dump(final_model, open(filename, 'wb'))"
   ]
  },
  {
   "cell_type": "code",
   "execution_count": 38,
   "id": "65f1d489",
   "metadata": {
    "executionInfo": {
     "elapsed": 388,
     "status": "ok",
     "timestamp": 1745064923354,
     "user": {
      "displayName": "Arihant Jain",
      "userId": "00542987843204554606"
     },
     "user_tz": -330
    },
    "id": "65f1d489"
   },
   "outputs": [],
   "source": [
    "out_df = sales_df"
   ]
  },
  {
   "cell_type": "code",
   "execution_count": 40,
   "id": "49dab0df",
   "metadata": {
    "executionInfo": {
     "elapsed": 4,
     "status": "ok",
     "timestamp": 1745065027438,
     "user": {
      "displayName": "Arihant Jain",
      "userId": "00542987843204554606"
     },
     "user_tz": -330
    },
    "id": "49dab0df"
   },
   "outputs": [],
   "source": [
    "# Splitting dependent and independent variable\n",
    "\n",
    "x_final = out_df.drop(['Sales'], axis = 1)\n",
    "y_final = out_df['Sales']"
   ]
  },
  {
   "cell_type": "code",
   "execution_count": 41,
   "id": "366e36ea",
   "metadata": {
    "executionInfo": {
     "elapsed": 6,
     "status": "ok",
     "timestamp": 1745065028839,
     "user": {
      "displayName": "Arihant Jain",
      "userId": "00542987843204554606"
     },
     "user_tz": -330
    },
    "id": "366e36ea"
   },
   "outputs": [],
   "source": [
    "# Predicting the Rating using Random Forest model that was chosen as final model\n",
    "\n",
    "y_pred = final_model.predict(x_final)"
   ]
  },
  {
   "cell_type": "code",
   "execution_count": 42,
   "id": "d5d803bb",
   "metadata": {
    "colab": {
     "base_uri": "https://localhost:8080/",
     "height": 423
    },
    "executionInfo": {
     "elapsed": 417,
     "status": "ok",
     "timestamp": 1745065034572,
     "user": {
      "displayName": "Arihant Jain",
      "userId": "00542987843204554606"
     },
     "user_tz": -330
    },
    "id": "d5d803bb",
    "outputId": "1d785ded-41a4-4ad8-8371-cca248ed44e4"
   },
   "outputs": [
    {
     "data": {
      "application/vnd.google.colaboratory.intrinsic+json": {
       "summary": "{\n  \"name\": \"final_result\",\n  \"rows\": 200,\n  \"fields\": [\n    {\n      \"column\": \"Predicted_Sales\",\n      \"properties\": {\n        \"dtype\": \"number\",\n        \"std\": 5.078517376714191,\n        \"min\": 3.037853333333324,\n        \"max\": 26.11991195993549,\n        \"num_unique_values\": 200,\n        \"samples\": [\n          17.245310193009622,\n          22.17773232600731,\n          20.873971479631457\n        ],\n        \"semantic_type\": \"\",\n        \"description\": \"\"\n      }\n    }\n  ]\n}",
       "type": "dataframe",
       "variable_name": "final_result"
      },
      "text/html": [
       "\n",
       "  <div id=\"df-40f443a4-68c2-489e-abe3-63467d793a25\" class=\"colab-df-container\">\n",
       "    <div>\n",
       "<style scoped>\n",
       "    .dataframe tbody tr th:only-of-type {\n",
       "        vertical-align: middle;\n",
       "    }\n",
       "\n",
       "    .dataframe tbody tr th {\n",
       "        vertical-align: top;\n",
       "    }\n",
       "\n",
       "    .dataframe thead th {\n",
       "        text-align: right;\n",
       "    }\n",
       "</style>\n",
       "<table border=\"1\" class=\"dataframe\">\n",
       "  <thead>\n",
       "    <tr style=\"text-align: right;\">\n",
       "      <th></th>\n",
       "      <th>Predicted_Sales</th>\n",
       "    </tr>\n",
       "  </thead>\n",
       "  <tbody>\n",
       "    <tr>\n",
       "      <th>0</th>\n",
       "      <td>21.772631</td>\n",
       "    </tr>\n",
       "    <tr>\n",
       "      <th>1</th>\n",
       "      <td>10.772412</td>\n",
       "    </tr>\n",
       "    <tr>\n",
       "      <th>2</th>\n",
       "      <td>8.735757</td>\n",
       "    </tr>\n",
       "    <tr>\n",
       "      <th>3</th>\n",
       "      <td>18.249825</td>\n",
       "    </tr>\n",
       "    <tr>\n",
       "      <th>4</th>\n",
       "      <td>13.835012</td>\n",
       "    </tr>\n",
       "    <tr>\n",
       "      <th>...</th>\n",
       "      <td>...</td>\n",
       "    </tr>\n",
       "    <tr>\n",
       "      <th>195</th>\n",
       "      <td>7.955268</td>\n",
       "    </tr>\n",
       "    <tr>\n",
       "      <th>196</th>\n",
       "      <td>9.821359</td>\n",
       "    </tr>\n",
       "    <tr>\n",
       "      <th>197</th>\n",
       "      <td>12.842530</td>\n",
       "    </tr>\n",
       "    <tr>\n",
       "      <th>198</th>\n",
       "      <td>24.842458</td>\n",
       "    </tr>\n",
       "    <tr>\n",
       "      <th>199</th>\n",
       "      <td>13.209785</td>\n",
       "    </tr>\n",
       "  </tbody>\n",
       "</table>\n",
       "<p>200 rows × 1 columns</p>\n",
       "</div>\n",
       "    <div class=\"colab-df-buttons\">\n",
       "\n",
       "  <div class=\"colab-df-container\">\n",
       "    <button class=\"colab-df-convert\" onclick=\"convertToInteractive('df-40f443a4-68c2-489e-abe3-63467d793a25')\"\n",
       "            title=\"Convert this dataframe to an interactive table.\"\n",
       "            style=\"display:none;\">\n",
       "\n",
       "  <svg xmlns=\"http://www.w3.org/2000/svg\" height=\"24px\" viewBox=\"0 -960 960 960\">\n",
       "    <path d=\"M120-120v-720h720v720H120Zm60-500h600v-160H180v160Zm220 220h160v-160H400v160Zm0 220h160v-160H400v160ZM180-400h160v-160H180v160Zm440 0h160v-160H620v160ZM180-180h160v-160H180v160Zm440 0h160v-160H620v160Z\"/>\n",
       "  </svg>\n",
       "    </button>\n",
       "\n",
       "  <style>\n",
       "    .colab-df-container {\n",
       "      display:flex;\n",
       "      gap: 12px;\n",
       "    }\n",
       "\n",
       "    .colab-df-convert {\n",
       "      background-color: #E8F0FE;\n",
       "      border: none;\n",
       "      border-radius: 50%;\n",
       "      cursor: pointer;\n",
       "      display: none;\n",
       "      fill: #1967D2;\n",
       "      height: 32px;\n",
       "      padding: 0 0 0 0;\n",
       "      width: 32px;\n",
       "    }\n",
       "\n",
       "    .colab-df-convert:hover {\n",
       "      background-color: #E2EBFA;\n",
       "      box-shadow: 0px 1px 2px rgba(60, 64, 67, 0.3), 0px 1px 3px 1px rgba(60, 64, 67, 0.15);\n",
       "      fill: #174EA6;\n",
       "    }\n",
       "\n",
       "    .colab-df-buttons div {\n",
       "      margin-bottom: 4px;\n",
       "    }\n",
       "\n",
       "    [theme=dark] .colab-df-convert {\n",
       "      background-color: #3B4455;\n",
       "      fill: #D2E3FC;\n",
       "    }\n",
       "\n",
       "    [theme=dark] .colab-df-convert:hover {\n",
       "      background-color: #434B5C;\n",
       "      box-shadow: 0px 1px 3px 1px rgba(0, 0, 0, 0.15);\n",
       "      filter: drop-shadow(0px 1px 2px rgba(0, 0, 0, 0.3));\n",
       "      fill: #FFFFFF;\n",
       "    }\n",
       "  </style>\n",
       "\n",
       "    <script>\n",
       "      const buttonEl =\n",
       "        document.querySelector('#df-40f443a4-68c2-489e-abe3-63467d793a25 button.colab-df-convert');\n",
       "      buttonEl.style.display =\n",
       "        google.colab.kernel.accessAllowed ? 'block' : 'none';\n",
       "\n",
       "      async function convertToInteractive(key) {\n",
       "        const element = document.querySelector('#df-40f443a4-68c2-489e-abe3-63467d793a25');\n",
       "        const dataTable =\n",
       "          await google.colab.kernel.invokeFunction('convertToInteractive',\n",
       "                                                    [key], {});\n",
       "        if (!dataTable) return;\n",
       "\n",
       "        const docLinkHtml = 'Like what you see? Visit the ' +\n",
       "          '<a target=\"_blank\" href=https://colab.research.google.com/notebooks/data_table.ipynb>data table notebook</a>'\n",
       "          + ' to learn more about interactive tables.';\n",
       "        element.innerHTML = '';\n",
       "        dataTable['output_type'] = 'display_data';\n",
       "        await google.colab.output.renderOutput(dataTable, element);\n",
       "        const docLink = document.createElement('div');\n",
       "        docLink.innerHTML = docLinkHtml;\n",
       "        element.appendChild(docLink);\n",
       "      }\n",
       "    </script>\n",
       "  </div>\n",
       "\n",
       "\n",
       "<div id=\"df-01a9ad91-b939-4efb-8910-6f8e764dccdb\">\n",
       "  <button class=\"colab-df-quickchart\" onclick=\"quickchart('df-01a9ad91-b939-4efb-8910-6f8e764dccdb')\"\n",
       "            title=\"Suggest charts\"\n",
       "            style=\"display:none;\">\n",
       "\n",
       "<svg xmlns=\"http://www.w3.org/2000/svg\" height=\"24px\"viewBox=\"0 0 24 24\"\n",
       "     width=\"24px\">\n",
       "    <g>\n",
       "        <path d=\"M19 3H5c-1.1 0-2 .9-2 2v14c0 1.1.9 2 2 2h14c1.1 0 2-.9 2-2V5c0-1.1-.9-2-2-2zM9 17H7v-7h2v7zm4 0h-2V7h2v10zm4 0h-2v-4h2v4z\"/>\n",
       "    </g>\n",
       "</svg>\n",
       "  </button>\n",
       "\n",
       "<style>\n",
       "  .colab-df-quickchart {\n",
       "      --bg-color: #E8F0FE;\n",
       "      --fill-color: #1967D2;\n",
       "      --hover-bg-color: #E2EBFA;\n",
       "      --hover-fill-color: #174EA6;\n",
       "      --disabled-fill-color: #AAA;\n",
       "      --disabled-bg-color: #DDD;\n",
       "  }\n",
       "\n",
       "  [theme=dark] .colab-df-quickchart {\n",
       "      --bg-color: #3B4455;\n",
       "      --fill-color: #D2E3FC;\n",
       "      --hover-bg-color: #434B5C;\n",
       "      --hover-fill-color: #FFFFFF;\n",
       "      --disabled-bg-color: #3B4455;\n",
       "      --disabled-fill-color: #666;\n",
       "  }\n",
       "\n",
       "  .colab-df-quickchart {\n",
       "    background-color: var(--bg-color);\n",
       "    border: none;\n",
       "    border-radius: 50%;\n",
       "    cursor: pointer;\n",
       "    display: none;\n",
       "    fill: var(--fill-color);\n",
       "    height: 32px;\n",
       "    padding: 0;\n",
       "    width: 32px;\n",
       "  }\n",
       "\n",
       "  .colab-df-quickchart:hover {\n",
       "    background-color: var(--hover-bg-color);\n",
       "    box-shadow: 0 1px 2px rgba(60, 64, 67, 0.3), 0 1px 3px 1px rgba(60, 64, 67, 0.15);\n",
       "    fill: var(--button-hover-fill-color);\n",
       "  }\n",
       "\n",
       "  .colab-df-quickchart-complete:disabled,\n",
       "  .colab-df-quickchart-complete:disabled:hover {\n",
       "    background-color: var(--disabled-bg-color);\n",
       "    fill: var(--disabled-fill-color);\n",
       "    box-shadow: none;\n",
       "  }\n",
       "\n",
       "  .colab-df-spinner {\n",
       "    border: 2px solid var(--fill-color);\n",
       "    border-color: transparent;\n",
       "    border-bottom-color: var(--fill-color);\n",
       "    animation:\n",
       "      spin 1s steps(1) infinite;\n",
       "  }\n",
       "\n",
       "  @keyframes spin {\n",
       "    0% {\n",
       "      border-color: transparent;\n",
       "      border-bottom-color: var(--fill-color);\n",
       "      border-left-color: var(--fill-color);\n",
       "    }\n",
       "    20% {\n",
       "      border-color: transparent;\n",
       "      border-left-color: var(--fill-color);\n",
       "      border-top-color: var(--fill-color);\n",
       "    }\n",
       "    30% {\n",
       "      border-color: transparent;\n",
       "      border-left-color: var(--fill-color);\n",
       "      border-top-color: var(--fill-color);\n",
       "      border-right-color: var(--fill-color);\n",
       "    }\n",
       "    40% {\n",
       "      border-color: transparent;\n",
       "      border-right-color: var(--fill-color);\n",
       "      border-top-color: var(--fill-color);\n",
       "    }\n",
       "    60% {\n",
       "      border-color: transparent;\n",
       "      border-right-color: var(--fill-color);\n",
       "    }\n",
       "    80% {\n",
       "      border-color: transparent;\n",
       "      border-right-color: var(--fill-color);\n",
       "      border-bottom-color: var(--fill-color);\n",
       "    }\n",
       "    90% {\n",
       "      border-color: transparent;\n",
       "      border-bottom-color: var(--fill-color);\n",
       "    }\n",
       "  }\n",
       "</style>\n",
       "\n",
       "  <script>\n",
       "    async function quickchart(key) {\n",
       "      const quickchartButtonEl =\n",
       "        document.querySelector('#' + key + ' button');\n",
       "      quickchartButtonEl.disabled = true;  // To prevent multiple clicks.\n",
       "      quickchartButtonEl.classList.add('colab-df-spinner');\n",
       "      try {\n",
       "        const charts = await google.colab.kernel.invokeFunction(\n",
       "            'suggestCharts', [key], {});\n",
       "      } catch (error) {\n",
       "        console.error('Error during call to suggestCharts:', error);\n",
       "      }\n",
       "      quickchartButtonEl.classList.remove('colab-df-spinner');\n",
       "      quickchartButtonEl.classList.add('colab-df-quickchart-complete');\n",
       "    }\n",
       "    (() => {\n",
       "      let quickchartButtonEl =\n",
       "        document.querySelector('#df-01a9ad91-b939-4efb-8910-6f8e764dccdb button');\n",
       "      quickchartButtonEl.style.display =\n",
       "        google.colab.kernel.accessAllowed ? 'block' : 'none';\n",
       "    })();\n",
       "  </script>\n",
       "</div>\n",
       "\n",
       "  <div id=\"id_e73bd5d8-82f7-4f0e-9c88-80aa98aa284e\">\n",
       "    <style>\n",
       "      .colab-df-generate {\n",
       "        background-color: #E8F0FE;\n",
       "        border: none;\n",
       "        border-radius: 50%;\n",
       "        cursor: pointer;\n",
       "        display: none;\n",
       "        fill: #1967D2;\n",
       "        height: 32px;\n",
       "        padding: 0 0 0 0;\n",
       "        width: 32px;\n",
       "      }\n",
       "\n",
       "      .colab-df-generate:hover {\n",
       "        background-color: #E2EBFA;\n",
       "        box-shadow: 0px 1px 2px rgba(60, 64, 67, 0.3), 0px 1px 3px 1px rgba(60, 64, 67, 0.15);\n",
       "        fill: #174EA6;\n",
       "      }\n",
       "\n",
       "      [theme=dark] .colab-df-generate {\n",
       "        background-color: #3B4455;\n",
       "        fill: #D2E3FC;\n",
       "      }\n",
       "\n",
       "      [theme=dark] .colab-df-generate:hover {\n",
       "        background-color: #434B5C;\n",
       "        box-shadow: 0px 1px 3px 1px rgba(0, 0, 0, 0.15);\n",
       "        filter: drop-shadow(0px 1px 2px rgba(0, 0, 0, 0.3));\n",
       "        fill: #FFFFFF;\n",
       "      }\n",
       "    </style>\n",
       "    <button class=\"colab-df-generate\" onclick=\"generateWithVariable('final_result')\"\n",
       "            title=\"Generate code using this dataframe.\"\n",
       "            style=\"display:none;\">\n",
       "\n",
       "  <svg xmlns=\"http://www.w3.org/2000/svg\" height=\"24px\"viewBox=\"0 0 24 24\"\n",
       "       width=\"24px\">\n",
       "    <path d=\"M7,19H8.4L18.45,9,17,7.55,7,17.6ZM5,21V16.75L18.45,3.32a2,2,0,0,1,2.83,0l1.4,1.43a1.91,1.91,0,0,1,.58,1.4,1.91,1.91,0,0,1-.58,1.4L9.25,21ZM18.45,9,17,7.55Zm-12,3A5.31,5.31,0,0,0,4.9,8.1,5.31,5.31,0,0,0,1,6.5,5.31,5.31,0,0,0,4.9,4.9,5.31,5.31,0,0,0,6.5,1,5.31,5.31,0,0,0,8.1,4.9,5.31,5.31,0,0,0,12,6.5,5.46,5.46,0,0,0,6.5,12Z\"/>\n",
       "  </svg>\n",
       "    </button>\n",
       "    <script>\n",
       "      (() => {\n",
       "      const buttonEl =\n",
       "        document.querySelector('#id_e73bd5d8-82f7-4f0e-9c88-80aa98aa284e button.colab-df-generate');\n",
       "      buttonEl.style.display =\n",
       "        google.colab.kernel.accessAllowed ? 'block' : 'none';\n",
       "\n",
       "      buttonEl.onclick = () => {\n",
       "        google.colab.notebook.generateWithVariable('final_result');\n",
       "      }\n",
       "      })();\n",
       "    </script>\n",
       "  </div>\n",
       "\n",
       "    </div>\n",
       "  </div>\n"
      ],
      "text/plain": [
       "     Predicted_Sales\n",
       "0          21.772631\n",
       "1          10.772412\n",
       "2           8.735757\n",
       "3          18.249825\n",
       "4          13.835012\n",
       "..               ...\n",
       "195         7.955268\n",
       "196         9.821359\n",
       "197        12.842530\n",
       "198        24.842458\n",
       "199        13.209785\n",
       "\n",
       "[200 rows x 1 columns]"
      ]
     },
     "execution_count": 42,
     "metadata": {},
     "output_type": "execute_result"
    }
   ],
   "source": [
    "final_result = pd.DataFrame(y_pred)\n",
    "final_result = final_result.rename(columns = {0 : \"Predicted_Sales\"})\n",
    "final_result"
   ]
  },
  {
   "cell_type": "code",
   "execution_count": 43,
   "id": "38badaee",
   "metadata": {
    "colab": {
     "base_uri": "https://localhost:8080/",
     "height": 206
    },
    "executionInfo": {
     "elapsed": 438,
     "status": "ok",
     "timestamp": 1745065047864,
     "user": {
      "displayName": "Arihant Jain",
      "userId": "00542987843204554606"
     },
     "user_tz": -330
    },
    "id": "38badaee",
    "outputId": "4d525a61-6924-401b-9295-57c8d2e712b1"
   },
   "outputs": [
    {
     "data": {
      "application/vnd.google.colaboratory.intrinsic+json": {
       "summary": "{\n  \"name\": \"final_result1\",\n  \"rows\": 200,\n  \"fields\": [\n    {\n      \"column\": \"TV\",\n      \"properties\": {\n        \"dtype\": \"number\",\n        \"std\": 85.8542363149081,\n        \"min\": 0.7,\n        \"max\": 296.4,\n        \"num_unique_values\": 190,\n        \"samples\": [\n          287.6,\n          286.0,\n          78.2\n        ],\n        \"semantic_type\": \"\",\n        \"description\": \"\"\n      }\n    },\n    {\n      \"column\": \"Radio\",\n      \"properties\": {\n        \"dtype\": \"number\",\n        \"std\": 14.846809176168723,\n        \"min\": 0.0,\n        \"max\": 49.6,\n        \"num_unique_values\": 167,\n        \"samples\": [\n          8.2,\n          36.9,\n          44.5\n        ],\n        \"semantic_type\": \"\",\n        \"description\": \"\"\n      }\n    },\n    {\n      \"column\": \"Newspaper\",\n      \"properties\": {\n        \"dtype\": \"number\",\n        \"std\": 21.778620838522833,\n        \"min\": 0.3,\n        \"max\": 114.0,\n        \"num_unique_values\": 172,\n        \"samples\": [\n          22.3,\n          5.7,\n          17.0\n        ],\n        \"semantic_type\": \"\",\n        \"description\": \"\"\n      }\n    },\n    {\n      \"column\": \"Sales\",\n      \"properties\": {\n        \"dtype\": \"number\",\n        \"std\": 5.217456565710477,\n        \"min\": 1.6,\n        \"max\": 27.0,\n        \"num_unique_values\": 121,\n        \"samples\": [\n          11.4,\n          21.2,\n          12.9\n        ],\n        \"semantic_type\": \"\",\n        \"description\": \"\"\n      }\n    },\n    {\n      \"column\": \"Predicted_Sales\",\n      \"properties\": {\n        \"dtype\": \"number\",\n        \"std\": 5.078517376714191,\n        \"min\": 3.037853333333324,\n        \"max\": 26.11991195993549,\n        \"num_unique_values\": 200,\n        \"samples\": [\n          17.245310193009622,\n          22.17773232600731,\n          20.873971479631457\n        ],\n        \"semantic_type\": \"\",\n        \"description\": \"\"\n      }\n    }\n  ]\n}",
       "type": "dataframe",
       "variable_name": "final_result1"
      },
      "text/html": [
       "\n",
       "  <div id=\"df-770e0395-0a80-4544-9369-44e1fd3cfa66\" class=\"colab-df-container\">\n",
       "    <div>\n",
       "<style scoped>\n",
       "    .dataframe tbody tr th:only-of-type {\n",
       "        vertical-align: middle;\n",
       "    }\n",
       "\n",
       "    .dataframe tbody tr th {\n",
       "        vertical-align: top;\n",
       "    }\n",
       "\n",
       "    .dataframe thead th {\n",
       "        text-align: right;\n",
       "    }\n",
       "</style>\n",
       "<table border=\"1\" class=\"dataframe\">\n",
       "  <thead>\n",
       "    <tr style=\"text-align: right;\">\n",
       "      <th></th>\n",
       "      <th>TV</th>\n",
       "      <th>Radio</th>\n",
       "      <th>Newspaper</th>\n",
       "      <th>Sales</th>\n",
       "      <th>Predicted_Sales</th>\n",
       "    </tr>\n",
       "  </thead>\n",
       "  <tbody>\n",
       "    <tr>\n",
       "      <th>0</th>\n",
       "      <td>230.1</td>\n",
       "      <td>37.8</td>\n",
       "      <td>69.2</td>\n",
       "      <td>22.1</td>\n",
       "      <td>21.772631</td>\n",
       "    </tr>\n",
       "    <tr>\n",
       "      <th>1</th>\n",
       "      <td>44.5</td>\n",
       "      <td>39.3</td>\n",
       "      <td>45.1</td>\n",
       "      <td>10.4</td>\n",
       "      <td>10.772412</td>\n",
       "    </tr>\n",
       "    <tr>\n",
       "      <th>2</th>\n",
       "      <td>17.2</td>\n",
       "      <td>45.9</td>\n",
       "      <td>69.3</td>\n",
       "      <td>9.3</td>\n",
       "      <td>8.735757</td>\n",
       "    </tr>\n",
       "    <tr>\n",
       "      <th>3</th>\n",
       "      <td>151.5</td>\n",
       "      <td>41.3</td>\n",
       "      <td>58.5</td>\n",
       "      <td>18.5</td>\n",
       "      <td>18.249825</td>\n",
       "    </tr>\n",
       "    <tr>\n",
       "      <th>4</th>\n",
       "      <td>180.8</td>\n",
       "      <td>10.8</td>\n",
       "      <td>58.4</td>\n",
       "      <td>12.9</td>\n",
       "      <td>13.835012</td>\n",
       "    </tr>\n",
       "  </tbody>\n",
       "</table>\n",
       "</div>\n",
       "    <div class=\"colab-df-buttons\">\n",
       "\n",
       "  <div class=\"colab-df-container\">\n",
       "    <button class=\"colab-df-convert\" onclick=\"convertToInteractive('df-770e0395-0a80-4544-9369-44e1fd3cfa66')\"\n",
       "            title=\"Convert this dataframe to an interactive table.\"\n",
       "            style=\"display:none;\">\n",
       "\n",
       "  <svg xmlns=\"http://www.w3.org/2000/svg\" height=\"24px\" viewBox=\"0 -960 960 960\">\n",
       "    <path d=\"M120-120v-720h720v720H120Zm60-500h600v-160H180v160Zm220 220h160v-160H400v160Zm0 220h160v-160H400v160ZM180-400h160v-160H180v160Zm440 0h160v-160H620v160ZM180-180h160v-160H180v160Zm440 0h160v-160H620v160Z\"/>\n",
       "  </svg>\n",
       "    </button>\n",
       "\n",
       "  <style>\n",
       "    .colab-df-container {\n",
       "      display:flex;\n",
       "      gap: 12px;\n",
       "    }\n",
       "\n",
       "    .colab-df-convert {\n",
       "      background-color: #E8F0FE;\n",
       "      border: none;\n",
       "      border-radius: 50%;\n",
       "      cursor: pointer;\n",
       "      display: none;\n",
       "      fill: #1967D2;\n",
       "      height: 32px;\n",
       "      padding: 0 0 0 0;\n",
       "      width: 32px;\n",
       "    }\n",
       "\n",
       "    .colab-df-convert:hover {\n",
       "      background-color: #E2EBFA;\n",
       "      box-shadow: 0px 1px 2px rgba(60, 64, 67, 0.3), 0px 1px 3px 1px rgba(60, 64, 67, 0.15);\n",
       "      fill: #174EA6;\n",
       "    }\n",
       "\n",
       "    .colab-df-buttons div {\n",
       "      margin-bottom: 4px;\n",
       "    }\n",
       "\n",
       "    [theme=dark] .colab-df-convert {\n",
       "      background-color: #3B4455;\n",
       "      fill: #D2E3FC;\n",
       "    }\n",
       "\n",
       "    [theme=dark] .colab-df-convert:hover {\n",
       "      background-color: #434B5C;\n",
       "      box-shadow: 0px 1px 3px 1px rgba(0, 0, 0, 0.15);\n",
       "      filter: drop-shadow(0px 1px 2px rgba(0, 0, 0, 0.3));\n",
       "      fill: #FFFFFF;\n",
       "    }\n",
       "  </style>\n",
       "\n",
       "    <script>\n",
       "      const buttonEl =\n",
       "        document.querySelector('#df-770e0395-0a80-4544-9369-44e1fd3cfa66 button.colab-df-convert');\n",
       "      buttonEl.style.display =\n",
       "        google.colab.kernel.accessAllowed ? 'block' : 'none';\n",
       "\n",
       "      async function convertToInteractive(key) {\n",
       "        const element = document.querySelector('#df-770e0395-0a80-4544-9369-44e1fd3cfa66');\n",
       "        const dataTable =\n",
       "          await google.colab.kernel.invokeFunction('convertToInteractive',\n",
       "                                                    [key], {});\n",
       "        if (!dataTable) return;\n",
       "\n",
       "        const docLinkHtml = 'Like what you see? Visit the ' +\n",
       "          '<a target=\"_blank\" href=https://colab.research.google.com/notebooks/data_table.ipynb>data table notebook</a>'\n",
       "          + ' to learn more about interactive tables.';\n",
       "        element.innerHTML = '';\n",
       "        dataTable['output_type'] = 'display_data';\n",
       "        await google.colab.output.renderOutput(dataTable, element);\n",
       "        const docLink = document.createElement('div');\n",
       "        docLink.innerHTML = docLinkHtml;\n",
       "        element.appendChild(docLink);\n",
       "      }\n",
       "    </script>\n",
       "  </div>\n",
       "\n",
       "\n",
       "<div id=\"df-12ab64ee-bb41-4324-8428-8d1b95e25e40\">\n",
       "  <button class=\"colab-df-quickchart\" onclick=\"quickchart('df-12ab64ee-bb41-4324-8428-8d1b95e25e40')\"\n",
       "            title=\"Suggest charts\"\n",
       "            style=\"display:none;\">\n",
       "\n",
       "<svg xmlns=\"http://www.w3.org/2000/svg\" height=\"24px\"viewBox=\"0 0 24 24\"\n",
       "     width=\"24px\">\n",
       "    <g>\n",
       "        <path d=\"M19 3H5c-1.1 0-2 .9-2 2v14c0 1.1.9 2 2 2h14c1.1 0 2-.9 2-2V5c0-1.1-.9-2-2-2zM9 17H7v-7h2v7zm4 0h-2V7h2v10zm4 0h-2v-4h2v4z\"/>\n",
       "    </g>\n",
       "</svg>\n",
       "  </button>\n",
       "\n",
       "<style>\n",
       "  .colab-df-quickchart {\n",
       "      --bg-color: #E8F0FE;\n",
       "      --fill-color: #1967D2;\n",
       "      --hover-bg-color: #E2EBFA;\n",
       "      --hover-fill-color: #174EA6;\n",
       "      --disabled-fill-color: #AAA;\n",
       "      --disabled-bg-color: #DDD;\n",
       "  }\n",
       "\n",
       "  [theme=dark] .colab-df-quickchart {\n",
       "      --bg-color: #3B4455;\n",
       "      --fill-color: #D2E3FC;\n",
       "      --hover-bg-color: #434B5C;\n",
       "      --hover-fill-color: #FFFFFF;\n",
       "      --disabled-bg-color: #3B4455;\n",
       "      --disabled-fill-color: #666;\n",
       "  }\n",
       "\n",
       "  .colab-df-quickchart {\n",
       "    background-color: var(--bg-color);\n",
       "    border: none;\n",
       "    border-radius: 50%;\n",
       "    cursor: pointer;\n",
       "    display: none;\n",
       "    fill: var(--fill-color);\n",
       "    height: 32px;\n",
       "    padding: 0;\n",
       "    width: 32px;\n",
       "  }\n",
       "\n",
       "  .colab-df-quickchart:hover {\n",
       "    background-color: var(--hover-bg-color);\n",
       "    box-shadow: 0 1px 2px rgba(60, 64, 67, 0.3), 0 1px 3px 1px rgba(60, 64, 67, 0.15);\n",
       "    fill: var(--button-hover-fill-color);\n",
       "  }\n",
       "\n",
       "  .colab-df-quickchart-complete:disabled,\n",
       "  .colab-df-quickchart-complete:disabled:hover {\n",
       "    background-color: var(--disabled-bg-color);\n",
       "    fill: var(--disabled-fill-color);\n",
       "    box-shadow: none;\n",
       "  }\n",
       "\n",
       "  .colab-df-spinner {\n",
       "    border: 2px solid var(--fill-color);\n",
       "    border-color: transparent;\n",
       "    border-bottom-color: var(--fill-color);\n",
       "    animation:\n",
       "      spin 1s steps(1) infinite;\n",
       "  }\n",
       "\n",
       "  @keyframes spin {\n",
       "    0% {\n",
       "      border-color: transparent;\n",
       "      border-bottom-color: var(--fill-color);\n",
       "      border-left-color: var(--fill-color);\n",
       "    }\n",
       "    20% {\n",
       "      border-color: transparent;\n",
       "      border-left-color: var(--fill-color);\n",
       "      border-top-color: var(--fill-color);\n",
       "    }\n",
       "    30% {\n",
       "      border-color: transparent;\n",
       "      border-left-color: var(--fill-color);\n",
       "      border-top-color: var(--fill-color);\n",
       "      border-right-color: var(--fill-color);\n",
       "    }\n",
       "    40% {\n",
       "      border-color: transparent;\n",
       "      border-right-color: var(--fill-color);\n",
       "      border-top-color: var(--fill-color);\n",
       "    }\n",
       "    60% {\n",
       "      border-color: transparent;\n",
       "      border-right-color: var(--fill-color);\n",
       "    }\n",
       "    80% {\n",
       "      border-color: transparent;\n",
       "      border-right-color: var(--fill-color);\n",
       "      border-bottom-color: var(--fill-color);\n",
       "    }\n",
       "    90% {\n",
       "      border-color: transparent;\n",
       "      border-bottom-color: var(--fill-color);\n",
       "    }\n",
       "  }\n",
       "</style>\n",
       "\n",
       "  <script>\n",
       "    async function quickchart(key) {\n",
       "      const quickchartButtonEl =\n",
       "        document.querySelector('#' + key + ' button');\n",
       "      quickchartButtonEl.disabled = true;  // To prevent multiple clicks.\n",
       "      quickchartButtonEl.classList.add('colab-df-spinner');\n",
       "      try {\n",
       "        const charts = await google.colab.kernel.invokeFunction(\n",
       "            'suggestCharts', [key], {});\n",
       "      } catch (error) {\n",
       "        console.error('Error during call to suggestCharts:', error);\n",
       "      }\n",
       "      quickchartButtonEl.classList.remove('colab-df-spinner');\n",
       "      quickchartButtonEl.classList.add('colab-df-quickchart-complete');\n",
       "    }\n",
       "    (() => {\n",
       "      let quickchartButtonEl =\n",
       "        document.querySelector('#df-12ab64ee-bb41-4324-8428-8d1b95e25e40 button');\n",
       "      quickchartButtonEl.style.display =\n",
       "        google.colab.kernel.accessAllowed ? 'block' : 'none';\n",
       "    })();\n",
       "  </script>\n",
       "</div>\n",
       "\n",
       "    </div>\n",
       "  </div>\n"
      ],
      "text/plain": [
       "      TV  Radio  Newspaper  Sales  Predicted_Sales\n",
       "0  230.1   37.8       69.2   22.1        21.772631\n",
       "1   44.5   39.3       45.1   10.4        10.772412\n",
       "2   17.2   45.9       69.3    9.3         8.735757\n",
       "3  151.5   41.3       58.5   18.5        18.249825\n",
       "4  180.8   10.8       58.4   12.9        13.835012"
      ]
     },
     "execution_count": 43,
     "metadata": {},
     "output_type": "execute_result"
    }
   ],
   "source": [
    "# Preparing the final data fram for output\n",
    "\n",
    "final_result1 = pd.concat([sales_df, pd.DataFrame(final_result)], axis = 1)\n",
    "final_result1.head(5)"
   ]
  },
  {
   "cell_type": "code",
   "execution_count": null,
   "id": "sasE5KPHh8fK",
   "metadata": {
    "colab": {
     "base_uri": "https://localhost:8080/"
    },
    "executionInfo": {
     "elapsed": 813,
     "status": "ok",
     "timestamp": 1734856951449,
     "user": {
      "displayName": "Arihant Jain",
      "userId": "00542987843204554606"
     },
     "user_tz": -330
    },
    "id": "sasE5KPHh8fK",
    "outputId": "2c307820-bca1-40a3-e882-225d36f83bde"
   },
   "outputs": [
    {
     "name": "stdout",
     "output_type": "stream",
     "text": [
      "DataFrame exported to sales_predictions.xlsx\n"
     ]
    }
   ],
   "source": [
    "# prompt: Write a python code to export this dataset in excel file\n",
    "\n",
    "import pandas as pd\n",
    "\n",
    "# Assuming 'final_result1' DataFrame from your code is available\n",
    "\n",
    "# Export the DataFrame to an Excel file\n",
    "final_result1.to_excel(\"sales_predictions.xlsx\", index=False)  # Set index=False to avoid writing row indices\n",
    "\n",
    "print(\"DataFrame exported to sales_predictions.xlsx\")"
   ]
  },
  {
   "cell_type": "code",
   "execution_count": 46,
   "id": "S4-f1XgvC72H",
   "metadata": {
    "colab": {
     "base_uri": "https://localhost:8080/"
    },
    "executionInfo": {
     "elapsed": 390,
     "status": "ok",
     "timestamp": 1745065305572,
     "user": {
      "displayName": "Arihant Jain",
      "userId": "00542987843204554606"
     },
     "user_tz": -330
    },
    "id": "S4-f1XgvC72H",
    "outputId": "1273deab-838b-4b60-bf0e-cd8f60fee745"
   },
   "outputs": [
    {
     "name": "stdout",
     "output_type": "stream",
     "text": [
      "Predicted Sales: 13.83501160937741\n"
     ]
    }
   ],
   "source": [
    "# prompt: Create a code here to pass the TV, radio, newspapaer value from user and then do the predicton os sales\n",
    "\n",
    "import pandas as pd\n",
    "#@title Sales Prediction Input\n",
    "TV = 180.8 #@param {type:\"number\"}\n",
    "radio = 10.8 #@param {type:\"number\"}\n",
    "newspaper = 58.4 #@param {type:\"number\"}\n",
    "\n",
    "\n",
    "# Load the saved model\n",
    "loaded_model = pickle.load(open('04_Sales_Predictions.sav', 'rb'))\n",
    "\n",
    "# Create a DataFrame with the user input\n",
    "user_input = pd.DataFrame({'TV': [TV], 'Radio': [radio], 'Newspaper': [newspaper]})\n",
    "\n",
    "# Make the prediction using the loaded model\n",
    "predicted_sales = loaded_model.predict(user_input)\n",
    "\n",
    "print(\"Predicted Sales:\", predicted_sales[0])\n"
   ]
  },
  {
   "cell_type": "code",
   "execution_count": null,
   "id": "6cb32884",
   "metadata": {
    "id": "6cb32884"
   },
   "outputs": [],
   "source": [
    "final_result1.to_csv(\"04_Predicted_Sales.csv\")"
   ]
  },
  {
   "cell_type": "code",
   "execution_count": null,
   "id": "0f22e2f0",
   "metadata": {
    "id": "0f22e2f0"
   },
   "outputs": [],
   "source": []
  }
 ],
 "metadata": {
  "colab": {
   "provenance": []
  },
  "kernelspec": {
   "display_name": "Python [conda env:base] *",
   "language": "python",
   "name": "conda-base-py"
  },
  "language_info": {
   "codemirror_mode": {
    "name": "ipython",
    "version": 3
   },
   "file_extension": ".py",
   "mimetype": "text/x-python",
   "name": "python",
   "nbconvert_exporter": "python",
   "pygments_lexer": "ipython3",
   "version": "3.12.7"
  }
 },
 "nbformat": 4,
 "nbformat_minor": 5
}
